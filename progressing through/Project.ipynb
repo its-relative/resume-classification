{
 "cells": [
  {
   "cell_type": "markdown",
   "metadata": {},
   "source": [
    "### Lets get the Resumes and put them in a csv file"
   ]
  },
  {
   "cell_type": "markdown",
   "metadata": {},
   "source": [
    "Lets get the required dependencies to see the dataframe that will be created"
   ]
  },
  {
   "cell_type": "code",
   "execution_count": 38,
   "metadata": {},
   "outputs": [],
   "source": [
    "import pandas as pd\n",
    "\n",
    "# %pip install importlib"
   ]
  },
  {
   "cell_type": "code",
   "execution_count": 39,
   "metadata": {},
   "outputs": [
    {
     "name": "stdout",
     "output_type": "stream",
     "text": [
      "Defaulting to user installation because normal site-packages is not writeable\n",
      "Requirement already satisfied: python-docx in /home/its_relative/.local/lib/python3.10/site-packages (1.1.2)\n",
      "Requirement already satisfied: PyPDF2 in /home/its_relative/.local/lib/python3.10/site-packages (3.0.1)\n",
      "Requirement already satisfied: textract in /home/its_relative/.local/lib/python3.10/site-packages (1.6.5)\n",
      "Requirement already satisfied: lxml>=3.1.0 in /home/its_relative/.local/lib/python3.10/site-packages (from python-docx) (5.2.1)\n",
      "Requirement already satisfied: typing-extensions>=4.9.0 in /home/its_relative/.local/lib/python3.10/site-packages (from python-docx) (4.11.0)\n",
      "Requirement already satisfied: argcomplete~=1.10.0 in /home/its_relative/.local/lib/python3.10/site-packages (from textract) (1.10.3)\n",
      "Requirement already satisfied: beautifulsoup4~=4.8.0 in /home/its_relative/.local/lib/python3.10/site-packages (from textract) (4.8.2)\n",
      "Requirement already satisfied: chardet==3.* in /home/its_relative/.local/lib/python3.10/site-packages (from textract) (3.0.4)\n",
      "Requirement already satisfied: docx2txt~=0.8 in /home/its_relative/.local/lib/python3.10/site-packages (from textract) (0.8)\n",
      "Requirement already satisfied: extract-msg<=0.29.* in /home/its_relative/.local/lib/python3.10/site-packages (from textract) (0.28.7)\n",
      "Requirement already satisfied: pdfminer.six==20191110 in /home/its_relative/.local/lib/python3.10/site-packages (from textract) (20191110)\n",
      "Requirement already satisfied: python-pptx~=0.6.18 in /home/its_relative/.local/lib/python3.10/site-packages (from textract) (0.6.23)\n",
      "Requirement already satisfied: six~=1.12.0 in /home/its_relative/.local/lib/python3.10/site-packages (from textract) (1.12.0)\n",
      "Requirement already satisfied: SpeechRecognition~=3.8.1 in /home/its_relative/.local/lib/python3.10/site-packages (from textract) (3.8.1)\n",
      "Requirement already satisfied: xlrd~=1.2.0 in /home/its_relative/.local/lib/python3.10/site-packages (from textract) (1.2.0)\n",
      "Requirement already satisfied: pycryptodome in /home/its_relative/.local/lib/python3.10/site-packages (from pdfminer.six==20191110->textract) (3.20.0)\n",
      "Requirement already satisfied: sortedcontainers in /home/its_relative/.local/lib/python3.10/site-packages (from pdfminer.six==20191110->textract) (2.4.0)\n",
      "Requirement already satisfied: soupsieve>=1.2 in /home/its_relative/.local/lib/python3.10/site-packages (from beautifulsoup4~=4.8.0->textract) (2.4.1)\n",
      "Requirement already satisfied: imapclient==2.1.0 in /home/its_relative/.local/lib/python3.10/site-packages (from extract-msg<=0.29.*->textract) (2.1.0)\n",
      "Requirement already satisfied: olefile>=0.46 in /usr/lib/python3/dist-packages (from extract-msg<=0.29.*->textract) (0.46)\n",
      "Requirement already satisfied: tzlocal>=2.1 in /home/its_relative/.local/lib/python3.10/site-packages (from extract-msg<=0.29.*->textract) (5.2)\n",
      "Requirement already satisfied: compressed-rtf>=1.0.6 in /home/its_relative/.local/lib/python3.10/site-packages (from extract-msg<=0.29.*->textract) (1.0.6)\n",
      "Requirement already satisfied: ebcdic>=1.1.1 in /home/its_relative/.local/lib/python3.10/site-packages (from extract-msg<=0.29.*->textract) (1.1.1)\n",
      "Requirement already satisfied: Pillow>=3.3.2 in /usr/lib/python3/dist-packages (from python-pptx~=0.6.18->textract) (9.0.1)\n",
      "Requirement already satisfied: XlsxWriter>=0.5.7 in /home/its_relative/.local/lib/python3.10/site-packages (from python-pptx~=0.6.18->textract) (3.2.0)\n",
      "\u001b[33mDEPRECATION: textract 1.6.5 has a non-standard dependency specifier extract-msg<=0.29.*. pip 24.1 will enforce this behaviour change. A possible replacement is to upgrade to a newer version of textract or contact the author to suggest that they release a version with a conforming dependency specifiers. Discussion can be found at https://github.com/pypa/pip/issues/12063\u001b[0m\u001b[33m\n",
      "\u001b[0m"
     ]
    }
   ],
   "source": [
    "!pip install python-docx PyPDF2 textract\n",
    "#!sudo apt-get install antiword this is basically for the doc format which is old\n"
   ]
  },
  {
   "cell_type": "code",
   "execution_count": 40,
   "metadata": {},
   "outputs": [
    {
     "name": "stdout",
     "output_type": "stream",
     "text": [
      "Processing file: React Dev_Krishna Kanth_Musquare Technologies.docx\n",
      "Read file React Dev_Krishna Kanth_Musquare Technologies.docx with category React\n",
      "Processing file: React Developer_PavasGoswami.doc\n",
      "Read file React Developer_PavasGoswami.doc with category React\n",
      "Processing file: React Developer_Haripriya.docx\n",
      "Read file React Developer_Haripriya.docx with category React\n",
      "Processing file: React Developer_Sarala Madasu-converted.docx\n",
      "Read file React Developer_Sarala Madasu-converted.docx with category React\n",
      "Processing file: React Developer_Kamalakar Reddy.docx\n",
      "Read file React Developer_Kamalakar Reddy.docx with category React\n",
      "Processing file: React Developer_Thirupathiamma.docx\n",
      "Read file React Developer_Thirupathiamma.docx with category React\n",
      "Processing file: React Dev_Krishna Kanth.docx\n",
      "Read file React Dev_Krishna Kanth.docx with category React\n",
      "Processing file: React Developer_Naveen sadhu.docx\n",
      "Read file React Developer_Naveen sadhu.docx with category React\n",
      "Processing file: React Developer_Deepakreddy.docx\n",
      "Read file React Developer_Deepakreddy.docx with category React\n",
      "Processing file: React Developer_Pragnya.docx\n",
      "Read file React Developer_Pragnya.docx with category React\n",
      "Processing file: React Developer_Vinay Reddy.doc\n",
      "Read file React Developer_Vinay Reddy.doc with category React\n",
      "Processing file: Nazeer Basha.doc\n",
      "Read file Nazeer Basha.doc with category SQL Developer Lightning insight\n",
      "Processing file: premsai.docx\n",
      "Read file premsai.docx with category SQL Developer Lightning insight\n",
      "Processing file: PSyamKumar[2_3].docx\n",
      "Read file PSyamKumar[2_3].docx with category SQL Developer Lightning insight\n",
      "Processing file: Buddha Vamsi.docx\n",
      "Read file Buddha Vamsi.docx with category SQL Developer Lightning insight\n",
      "Processing file: Ramalakshmi K.docx\n",
      "Read file Ramalakshmi K.docx with category SQL Developer Lightning insight\n",
      "Processing file: AradhanaTripathi[4_0].docx\n",
      "Read file AradhanaTripathi[4_0].docx with category SQL Developer Lightning insight\n",
      "Processing file: Vinod B.docx\n",
      "Read file Vinod B.docx with category SQL Developer Lightning insight\n",
      "Processing file: Rajupavanakumari[2_10].docx\n",
      "Read file Rajupavanakumari[2_10].docx with category SQL Developer Lightning insight\n",
      "Processing file: kamballapradeep.docx\n",
      "Read file kamballapradeep.docx with category SQL Developer Lightning insight\n",
      "Processing file: Neeraj Mishra.docx\n",
      "Read file Neeraj Mishra.docx with category SQL Developer Lightning insight\n",
      "Processing file: RameshNataru[3_4].docx\n",
      "Read file RameshNataru[3_4].docx with category SQL Developer Lightning insight\n",
      "Processing file: Tatikonda Kiran Kumar.doc\n",
      "Read file Tatikonda Kiran Kumar.doc with category SQL Developer Lightning insight\n",
      "Processing file: Anil kumar.docx\n",
      "Read file Anil kumar.docx with category SQL Developer Lightning insight\n",
      "Processing file: Priyanka L.doc\n",
      "Read file Priyanka L.doc with category SQL Developer Lightning insight\n",
      "Processing file: Naresh Babu Cherukuri_Hexaware.doc\n",
      "Read file Naresh Babu Cherukuri_Hexaware.doc with category workday resumes\n",
      "Processing file: Himaja G_(Hexaware).docx\n",
      "Read file Himaja G_(Hexaware).docx with category workday resumes\n",
      "Processing file: Harikrishna Akula_Hexaware.doc\n",
      "Read file Harikrishna Akula_Hexaware.doc with category workday resumes\n",
      "Processing file: ShireeshKumar_Hexaware.doc\n",
      "Read file ShireeshKumar_Hexaware.doc with category workday resumes\n",
      "Processing file: Hari Krishna M_Hexaware.doc\n",
      "Read file Hari Krishna M_Hexaware.doc with category workday resumes\n",
      "Processing file: ChinnaSubbarayuduM_Hexaware.docx\n",
      "Read file ChinnaSubbarayuduM_Hexaware.docx with category workday resumes\n",
      "Processing file: Sri Krishna S_Hexaware.doc\n",
      "Read file Sri Krishna S_Hexaware.doc with category workday resumes\n",
      "Processing file: SSKumar_Hexaware.docx\n",
      "Read file SSKumar_Hexaware.docx with category workday resumes\n",
      "Processing file: Srikanth-Hexaware.docx\n",
      "Read file Srikanth-Hexaware.docx with category workday resumes\n",
      "Processing file: Punugoti Swetha_Hexaware.doc\n",
      "Read file Punugoti Swetha_Hexaware.doc with category workday resumes\n",
      "Processing file: Venkateswarlu B_Hexaware.doc\n",
      "Read file Venkateswarlu B_Hexaware.doc with category workday resumes\n",
      "Processing file: Jyotiverma_Heaware.docx\n",
      "Read file Jyotiverma_Heaware.docx with category workday resumes\n",
      "Processing file: MooraboyinaGuravaiah_Hexaware.docx\n",
      "Read file MooraboyinaGuravaiah_Hexaware.docx with category workday resumes\n",
      "Processing file: Hima Mendu_Hexaware.doc\n",
      "Read file Hima Mendu_Hexaware.doc with category workday resumes\n",
      "Processing file: J. Sumanth Royal_Hexaware.doc\n",
      "Read file J. Sumanth Royal_Hexaware.doc with category workday resumes\n",
      "Processing file: Vinay Kumar_Hexaware.docx\n",
      "Read file Vinay Kumar_Hexaware.docx with category workday resumes\n",
      "Processing file: RahulM_Hexaware.docx\n",
      "Read file RahulM_Hexaware.docx with category workday resumes\n",
      "Processing file: Madeeswar A_Hexaware.doc\n",
      "Read file Madeeswar A_Hexaware.doc with category workday resumes\n",
      "Processing file: Gopi Krishna_Hexaware.docx\n",
      "Read file Gopi Krishna_Hexaware.docx with category workday resumes\n",
      "Processing file: P V Sai Krishna_ Hexaware.docx\n",
      "Read file P V Sai Krishna_ Hexaware.docx with category workday resumes\n",
      "Processing file: RameshP_Hexaware.docx\n",
      "Read file RameshP_Hexaware.docx with category workday resumes\n",
      "Processing file: Peoplesoft FSCM_PriyabrataHota.docx\n",
      "Read file Peoplesoft FSCM_PriyabrataHota.docx with category Peoplesoft resumes\n",
      "Processing file: Peoplesoft Finance_Arun Venu.doc\n",
      "Read file Peoplesoft Finance_Arun Venu.doc with category Peoplesoft resumes\n",
      "Processing file: PeopleSoft DBA_Vivekanand Sayana.docx\n",
      "Read file PeopleSoft DBA_Vivekanand Sayana.docx with category Peoplesoft resumes\n",
      "Processing file: Peoplesoft Admin_AnubhavSingh.docx\n",
      "Read file Peoplesoft Admin_AnubhavSingh.docx with category Peoplesoft resumes\n",
      "Processing file: Peoplesoft Finance_Pritam Biswas.doc\n",
      "Read file Peoplesoft Finance_Pritam Biswas.doc with category Peoplesoft resumes\n",
      "Processing file: Peoplesoft Admin_SirazuddinMohammad.docx\n",
      "Read file Peoplesoft Admin_SirazuddinMohammad.docx with category Peoplesoft resumes\n",
      "Processing file: Peoplesoft FSCM_R Ahmed.doc\n",
      "Read file Peoplesoft FSCM_R Ahmed.doc with category Peoplesoft resumes\n",
      "Processing file: Peoplesoft Admin_G Ananda Rayudu.doc\n",
      "Read file Peoplesoft Admin_G Ananda Rayudu.doc with category Peoplesoft resumes\n",
      "Processing file: Peoplesoft FSCM_SUJATHA.docx\n",
      "Read file Peoplesoft FSCM_SUJATHA.docx with category Peoplesoft resumes\n",
      "Processing file: Peoplesoft Admin_srinivasarao.doc\n",
      "Read file Peoplesoft Admin_srinivasarao.doc with category Peoplesoft resumes\n",
      "Processing file: Peoplesoft Admin_Gangareddy.doc\n",
      "Read file Peoplesoft Admin_Gangareddy.doc with category Peoplesoft resumes\n",
      "Processing file: Peoplesoft Finance_Rahul Ahuja.doc\n",
      "Read file Peoplesoft Finance_Rahul Ahuja.doc with category Peoplesoft resumes\n",
      "Processing file: Resume_Subha Santosh_Peoplesoft FSCM.docx\n",
      "Read file Resume_Subha Santosh_Peoplesoft FSCM.docx with category Peoplesoft resumes\n",
      "Processing file: PeopleSoft DBA_Ganesh Alladi.doc\n",
      "Read file PeopleSoft DBA_Ganesh Alladi.doc with category Peoplesoft resumes\n",
      "Processing file: Peoplesoft FSCM_HariNarayana.docx\n",
      "Read file Peoplesoft FSCM_HariNarayana.docx with category Peoplesoft resumes\n",
      "Processing file: Peoplesoft FSCM_Murali.docx\n",
      "Read file Peoplesoft FSCM_Murali.docx with category Peoplesoft resumes\n",
      "Processing file: Peoplesoft Admin_Priyanka Ramadoss.doc\n",
      "Read file Peoplesoft Admin_Priyanka Ramadoss.doc with category Peoplesoft resumes\n",
      "Processing file: Peoplesoft Admin_Murali.docx\n",
      "Read file Peoplesoft Admin_Murali.docx with category Peoplesoft resumes\n",
      "Processing file: Peoplesoft Admin_Varkala Vikas.docx\n",
      "Read file Peoplesoft Admin_Varkala Vikas.docx with category Peoplesoft resumes\n",
      "Processing file: Peoplesoft Admin_Vinod Akkala.doc\n",
      "Read file Peoplesoft Admin_Vinod Akkala.doc with category Peoplesoft resumes\n",
      "Processing file: Internship_Susovan Bag_Musquare Technologies.docx\n",
      "Read file Internship_Susovan Bag_Musquare Technologies.docx with category internship\n",
      "Processing file: Internship_Ravali_Musquare Technologies (1).docx\n",
      "Read file Internship_Ravali_Musquare Technologies (1).docx with category internship\n",
      "Processing file: Reactjs Developer_MD Khizaruddin Rauf _Musquare Technologies.docx\n",
      "Read file Reactjs Developer_MD Khizaruddin Rauf _Musquare Technologies.docx with category Reactjs\n",
      "Processing file: Reactjs Developer_M Lokesh Babu_Musquare Technologies.docx\n",
      "Read file Reactjs Developer_M Lokesh Babu_Musquare Technologies.docx with category Reactjs\n",
      "Processing file: Reactjs Developer_Prabakaran_Musquare Technologies.pdf\n",
      "Read file Reactjs Developer_Prabakaran_Musquare Technologies.pdf with category Reactjs\n",
      "Processing file: Reactjs Developer_Pranish Sonone_Musquare Technologies.docx\n",
      "Read file Reactjs Developer_Pranish Sonone_Musquare Technologies.docx with category Reactjs\n",
      "Processing file: Reactjs Developer_kambala sai surendra_Musquare Technologies.docx\n",
      "Read file Reactjs Developer_kambala sai surendra_Musquare Technologies.docx with category Reactjs\n",
      "Processing file: React JS Developer_KotaniDurgaprasad[3_1] (1)-converted.docx\n",
      "Read file React JS Developer_KotaniDurgaprasad[3_1] (1)-converted.docx with category Reactjs\n",
      "Processing file: React JS Developer_AnjaniPriyadarshini.doc\n",
      "Read file React JS Developer_AnjaniPriyadarshini.doc with category Reactjs\n",
      "Processing file: Reactjs Developer_Ranga Gaganam_Musquare Technologies.docx\n",
      "Read file Reactjs Developer_Ranga Gaganam_Musquare Technologies.docx with category Reactjs\n",
      "Processing file: Reactjs Developer_Shaik Abdul Sharuk_Musquare Technologies.docx\n",
      "Read file Reactjs Developer_Shaik Abdul Sharuk_Musquare Technologies.docx with category Reactjs\n",
      "Processing file: Reactjs Developer_M Lokesh.docx\n",
      "Read file Reactjs Developer_M Lokesh.docx with category Reactjs\n",
      "Processing file: React JS Developer_Venkatalakshmi (1)-converted.docx\n",
      "Read file React JS Developer_Venkatalakshmi (1)-converted.docx with category Reactjs\n",
      "Resumes data saved to CSV file successfully!\n"
     ]
    }
   ],
   "source": [
    "import os\n",
    "import pandas as pd\n",
    "import textract\n",
    "\n",
    "# Define the base directory containing the resumes\n",
    "base_dir = 'resumes categorised'\n",
    "\n",
    "# Initialize a list to store the data\n",
    "data = []\n",
    "\n",
    "def read_text(file):\n",
    "    try:\n",
    "        text = textract.process(file)\n",
    "        return text.decode('utf-8')\n",
    "    except Exception as e:\n",
    "        print(f'Error extracting text from {file}: {e}')\n",
    "        return None\n",
    "\n",
    "# Walk through the directory structure\n",
    "for root, dirs, files in os.walk(base_dir):\n",
    "    for file_name in files:\n",
    "        # Print the file name for debugging purposes\n",
    "        print(f'Processing file: {file_name}')\n",
    "        \n",
    "        # Extract the category from the folder name\n",
    "        category = os.path.basename(root)\n",
    "        \n",
    "        # Handle different file types\n",
    "        file_path = os.path.join(root, file_name)\n",
    "        if file_name.endswith('.docx') or file_name.endswith('.doc'):\n",
    "            content = read_text(file_path)\n",
    "        elif file_name.endswith('.pdf'):\n",
    "            content = read_text(file_path)\n",
    "        else:\n",
    "            print(f'Skipping file: {file_name} (unsupported format)')\n",
    "            continue\n",
    "        \n",
    "        if content is not None:\n",
    "            data.append({'Resume': content, 'Category': category})\n",
    "            print(f'Read file {file_name} with category {category}')\n",
    "        else:\n",
    "            print(f'Failed to read file {file_name}. Content is None.')\n",
    "\n",
    "# Create a DataFrame from the data\n",
    "df = pd.DataFrame(data)\n",
    "# Save the DataFrame to a CSV file\n",
    "df.to_csv('all_resumes.csv', index=False)\n",
    "print('Resumes data saved to CSV file successfully!')\n"
   ]
  },
  {
   "cell_type": "markdown",
   "metadata": {},
   "source": [
    "### Lets read the Dataset and check its contents"
   ]
  },
  {
   "cell_type": "code",
   "execution_count": 41,
   "metadata": {},
   "outputs": [],
   "source": [
    "data = pd.read_csv(\"all_resumes.csv\")\n",
    "\n",
    "df = data.copy() "
   ]
  },
  {
   "cell_type": "code",
   "execution_count": 42,
   "metadata": {},
   "outputs": [
    {
     "data": {
      "text/html": [
       "<div>\n",
       "<style scoped>\n",
       "    .dataframe tbody tr th:only-of-type {\n",
       "        vertical-align: middle;\n",
       "    }\n",
       "\n",
       "    .dataframe tbody tr th {\n",
       "        vertical-align: top;\n",
       "    }\n",
       "\n",
       "    .dataframe thead th {\n",
       "        text-align: right;\n",
       "    }\n",
       "</style>\n",
       "<table border=\"1\" class=\"dataframe\">\n",
       "  <thead>\n",
       "    <tr style=\"text-align: right;\">\n",
       "      <th></th>\n",
       "      <th>Resume</th>\n",
       "      <th>Category</th>\n",
       "    </tr>\n",
       "  </thead>\n",
       "  <tbody>\n",
       "    <tr>\n",
       "      <th>0</th>\n",
       "      <td>Ui-Developer/ React JS Developer \\n\\nNAME: KRI...</td>\n",
       "      <td>React</td>\n",
       "    </tr>\n",
       "    <tr>\n",
       "      <th>1</th>\n",
       "      <td>\\n [pic]\\n\\nPROFILE\\n\\n Searching for the oppo...</td>\n",
       "      <td>React</td>\n",
       "    </tr>\n",
       "    <tr>\n",
       "      <th>2</th>\n",
       "      <td>HARIPRIYA BATTINA \\n\\nExperience as UI Develop...</td>\n",
       "      <td>React</td>\n",
       "    </tr>\n",
       "    <tr>\n",
       "      <th>3</th>\n",
       "      <td>SARALA MADASU\\n\\nSARALA MADASU\\n\\n 204,Sri ge...</td>\n",
       "      <td>React</td>\n",
       "    </tr>\n",
       "    <tr>\n",
       "      <th>4</th>\n",
       "      <td>KAMALAKAR REDDY. A \\n\\nLinked In: https://www....</td>\n",
       "      <td>React</td>\n",
       "    </tr>\n",
       "    <tr>\n",
       "      <th>...</th>\n",
       "      <td>...</td>\n",
       "      <td>...</td>\n",
       "    </tr>\n",
       "    <tr>\n",
       "      <th>74</th>\n",
       "      <td>\\n                              CURRICULUM VIT...</td>\n",
       "      <td>Reactjs</td>\n",
       "    </tr>\n",
       "    <tr>\n",
       "      <th>75</th>\n",
       "      <td>Ranga Gaganam  \\n\\n\\n\\n \\n\\nProfessional\\n\\n \\...</td>\n",
       "      <td>Reactjs</td>\n",
       "    </tr>\n",
       "    <tr>\n",
       "      <th>76</th>\n",
       "      <td>SHAIK ABDUL SHARUK   \\n\\n2 years’ Experience i...</td>\n",
       "      <td>Reactjs</td>\n",
       "    </tr>\n",
       "    <tr>\n",
       "      <th>77</th>\n",
       "      <td>MAREEDU LOKESH BABU\\n\\n\\n\\nPROFESSIONAL OVERVI...</td>\n",
       "      <td>Reactjs</td>\n",
       "    </tr>\n",
       "    <tr>\n",
       "      <th>78</th>\n",
       "      <td>Venkatalakshmi Pedireddy\\n\\nSoftware Developer...</td>\n",
       "      <td>Reactjs</td>\n",
       "    </tr>\n",
       "  </tbody>\n",
       "</table>\n",
       "<p>79 rows × 2 columns</p>\n",
       "</div>"
      ],
      "text/plain": [
       "                                               Resume Category\n",
       "0   Ui-Developer/ React JS Developer \\n\\nNAME: KRI...    React\n",
       "1   \\n [pic]\\n\\nPROFILE\\n\\n Searching for the oppo...    React\n",
       "2   HARIPRIYA BATTINA \\n\\nExperience as UI Develop...    React\n",
       "3   SARALA MADASU\\n\\nSARALA MADASU\\n\\n 204,Sri ge...    React\n",
       "4   KAMALAKAR REDDY. A \\n\\nLinked In: https://www....    React\n",
       "..                                                ...      ...\n",
       "74  \\n                              CURRICULUM VIT...  Reactjs\n",
       "75  Ranga Gaganam  \\n\\n\\n\\n \\n\\nProfessional\\n\\n \\...  Reactjs\n",
       "76  SHAIK ABDUL SHARUK   \\n\\n2 years’ Experience i...  Reactjs\n",
       "77  MAREEDU LOKESH BABU\\n\\n\\n\\nPROFESSIONAL OVERVI...  Reactjs\n",
       "78  Venkatalakshmi Pedireddy\\n\\nSoftware Developer...  Reactjs\n",
       "\n",
       "[79 rows x 2 columns]"
      ]
     },
     "execution_count": 42,
     "metadata": {},
     "output_type": "execute_result"
    }
   ],
   "source": [
    "df"
   ]
  },
  {
   "cell_type": "code",
   "execution_count": 43,
   "metadata": {},
   "outputs": [
    {
     "data": {
      "text/plain": [
       "Index(['Resume', 'Category'], dtype='object')"
      ]
     },
     "execution_count": 43,
     "metadata": {},
     "output_type": "execute_result"
    }
   ],
   "source": [
    "df.columns"
   ]
  },
  {
   "cell_type": "code",
   "execution_count": 44,
   "metadata": {},
   "outputs": [
    {
     "data": {
      "text/plain": [
       "Category\n",
       "workday resumes                    21\n",
       "Peoplesoft resumes                 20\n",
       "SQL Developer Lightning insight    14\n",
       "React                              11\n",
       "Reactjs                            11\n",
       "internship                          2\n",
       "Name: count, dtype: int64"
      ]
     },
     "execution_count": 44,
     "metadata": {},
     "output_type": "execute_result"
    }
   ],
   "source": [
    "df[\"Category\"].value_counts()"
   ]
  },
  {
   "cell_type": "code",
   "execution_count": 45,
   "metadata": {},
   "outputs": [
    {
     "data": {
      "text/plain": [
       "(79, 2)"
      ]
     },
     "execution_count": 45,
     "metadata": {},
     "output_type": "execute_result"
    }
   ],
   "source": [
    "df.shape"
   ]
  },
  {
   "cell_type": "markdown",
   "metadata": {},
   "source": [
    "### Let's import the nltk library for further processing"
   ]
  },
  {
   "cell_type": "code",
   "execution_count": 46,
   "metadata": {},
   "outputs": [],
   "source": [
    "import nltk"
   ]
  },
  {
   "cell_type": "code",
   "execution_count": 47,
   "metadata": {},
   "outputs": [],
   "source": [
    "df1 = df.copy()"
   ]
  },
  {
   "cell_type": "code",
   "execution_count": 48,
   "metadata": {},
   "outputs": [
    {
     "data": {
      "text/plain": [
       "Index(['Resume', 'Category'], dtype='object')"
      ]
     },
     "execution_count": 48,
     "metadata": {},
     "output_type": "execute_result"
    }
   ],
   "source": [
    "df1.columns"
   ]
  },
  {
   "cell_type": "markdown",
   "metadata": {},
   "source": [
    "Lets start with first tokenizing the Resumes data"
   ]
  },
  {
   "cell_type": "code",
   "execution_count": 49,
   "metadata": {},
   "outputs": [],
   "source": [
    "from nltk.tokenize import word_tokenize\n",
    "\n",
    "df1[\"Tokens\"] = df1[\"Resume\"].apply(word_tokenize)"
   ]
  },
  {
   "cell_type": "code",
   "execution_count": 50,
   "metadata": {},
   "outputs": [
    {
     "data": {
      "text/plain": [
       "0     [Ui-Developer/, React, JS, Developer, NAME, :,...\n",
       "1     [[, pic, ], PROFILE, Searching, for, the, oppo...\n",
       "2     [HARIPRIYA, BATTINA, Experience, as, UI, Devel...\n",
       "3     [SARALA, MADASU, SARALA, MADASU, , 204, ,, Sr...\n",
       "4     [KAMALAKAR, REDDY, ., A, Linked, In, :, https,...\n",
       "                            ...                        \n",
       "74    [CURRICULUM, VITAE, |Anjani, Priyadarshini, |O...\n",
       "75    [Ranga, Gaganam, Professional, Summary, :, Pro...\n",
       "76    [SHAIK, ABDUL, SHARUK, 2, years, ’, Experience...\n",
       "77    [MAREEDU, LOKESH, BABU, PROFESSIONAL, OVERVIEW...\n",
       "78    [Venkatalakshmi, Pedireddy, Software, Develope...\n",
       "Name: Tokens, Length: 79, dtype: object"
      ]
     },
     "execution_count": 50,
     "metadata": {},
     "output_type": "execute_result"
    }
   ],
   "source": [
    "df1[\"Tokens\"]"
   ]
  },
  {
   "cell_type": "markdown",
   "metadata": {},
   "source": [
    "### Lets remove the punctuations from this data for smooth processing"
   ]
  },
  {
   "cell_type": "code",
   "execution_count": 51,
   "metadata": {},
   "outputs": [],
   "source": [
    "import string as s"
   ]
  },
  {
   "cell_type": "code",
   "execution_count": 52,
   "metadata": {},
   "outputs": [],
   "source": [
    "punctuations = s.punctuation"
   ]
  },
  {
   "cell_type": "code",
   "execution_count": 53,
   "metadata": {},
   "outputs": [
    {
     "data": {
      "text/plain": [
       "'!\"#$%&\\'()*+,-./:;<=>?@[\\\\]^_`{|}~'"
      ]
     },
     "execution_count": 53,
     "metadata": {},
     "output_type": "execute_result"
    }
   ],
   "source": [
    "punctuations"
   ]
  },
  {
   "cell_type": "code",
   "execution_count": 54,
   "metadata": {},
   "outputs": [],
   "source": [
    "df1[\"Tokens\"] = df1[\"Tokens\"].apply(lambda x: [ word for word in x if word not in punctuations])"
   ]
  },
  {
   "cell_type": "code",
   "execution_count": 55,
   "metadata": {},
   "outputs": [
    {
     "name": "stdout",
     "output_type": "stream",
     "text": [
      "                                               Resume Category  \\\n",
      "0   Ui-Developer/ React JS Developer \\n\\nNAME: KRI...    React   \n",
      "1   \\n [pic]\\n\\nPROFILE\\n\\n Searching for the oppo...    React   \n",
      "2   HARIPRIYA BATTINA \\n\\nExperience as UI Develop...    React   \n",
      "3   SARALA MADASU\\n\\nSARALA MADASU\\n\\n 204,Sri ge...    React   \n",
      "4   KAMALAKAR REDDY. A \\n\\nLinked In: https://www....    React   \n",
      "..                                                ...      ...   \n",
      "74  \\n                              CURRICULUM VIT...  Reactjs   \n",
      "75  Ranga Gaganam  \\n\\n\\n\\n \\n\\nProfessional\\n\\n \\...  Reactjs   \n",
      "76  SHAIK ABDUL SHARUK   \\n\\n2 years’ Experience i...  Reactjs   \n",
      "77  MAREEDU LOKESH BABU\\n\\n\\n\\nPROFESSIONAL OVERVI...  Reactjs   \n",
      "78  Venkatalakshmi Pedireddy\\n\\nSoftware Developer...  Reactjs   \n",
      "\n",
      "                                               Tokens  \n",
      "0   [Ui-Developer/, React, JS, Developer, NAME, KR...  \n",
      "1   [pic, PROFILE, Searching, for, the, opportunit...  \n",
      "2   [HARIPRIYA, BATTINA, Experience, as, UI, Devel...  \n",
      "3   [SARALA, MADASU, SARALA, MADASU, , 204, Sri, ...  \n",
      "4   [KAMALAKAR, REDDY, A, Linked, In, https, //www...  \n",
      "..                                                ...  \n",
      "74  [CURRICULUM, VITAE, |Anjani, Priyadarshini, |O...  \n",
      "75  [Ranga, Gaganam, Professional, Summary, Profes...  \n",
      "76  [SHAIK, ABDUL, SHARUK, 2, years, ’, Experience...  \n",
      "77  [MAREEDU, LOKESH, BABU, PROFESSIONAL, OVERVIEW...  \n",
      "78  [Venkatalakshmi, Pedireddy, Software, Develope...  \n",
      "\n",
      "[79 rows x 3 columns]\n"
     ]
    }
   ],
   "source": [
    "print(df1)"
   ]
  },
  {
   "cell_type": "markdown",
   "metadata": {},
   "source": [
    "Lets normalize the data developed"
   ]
  },
  {
   "cell_type": "code",
   "execution_count": 56,
   "metadata": {},
   "outputs": [],
   "source": [
    "df1[\"Tokens\"] = df1[\"Tokens\"].apply(lambda x: [word.lower() for word in x])"
   ]
  },
  {
   "cell_type": "code",
   "execution_count": 57,
   "metadata": {},
   "outputs": [
    {
     "name": "stdout",
     "output_type": "stream",
     "text": [
      "                                               Resume Category  \\\n",
      "0   Ui-Developer/ React JS Developer \\n\\nNAME: KRI...    React   \n",
      "1   \\n [pic]\\n\\nPROFILE\\n\\n Searching for the oppo...    React   \n",
      "2   HARIPRIYA BATTINA \\n\\nExperience as UI Develop...    React   \n",
      "3   SARALA MADASU\\n\\nSARALA MADASU\\n\\n 204,Sri ge...    React   \n",
      "4   KAMALAKAR REDDY. A \\n\\nLinked In: https://www....    React   \n",
      "..                                                ...      ...   \n",
      "74  \\n                              CURRICULUM VIT...  Reactjs   \n",
      "75  Ranga Gaganam  \\n\\n\\n\\n \\n\\nProfessional\\n\\n \\...  Reactjs   \n",
      "76  SHAIK ABDUL SHARUK   \\n\\n2 years’ Experience i...  Reactjs   \n",
      "77  MAREEDU LOKESH BABU\\n\\n\\n\\nPROFESSIONAL OVERVI...  Reactjs   \n",
      "78  Venkatalakshmi Pedireddy\\n\\nSoftware Developer...  Reactjs   \n",
      "\n",
      "                                               Tokens  \n",
      "0   [ui-developer/, react, js, developer, name, kr...  \n",
      "1   [pic, profile, searching, for, the, opportunit...  \n",
      "2   [haripriya, battina, experience, as, ui, devel...  \n",
      "3   [sarala, madasu, sarala, madasu, , 204, sri, ...  \n",
      "4   [kamalakar, reddy, a, linked, in, https, //www...  \n",
      "..                                                ...  \n",
      "74  [curriculum, vitae, |anjani, priyadarshini, |o...  \n",
      "75  [ranga, gaganam, professional, summary, profes...  \n",
      "76  [shaik, abdul, sharuk, 2, years, ’, experience...  \n",
      "77  [mareedu, lokesh, babu, professional, overview...  \n",
      "78  [venkatalakshmi, pedireddy, software, develope...  \n",
      "\n",
      "[79 rows x 3 columns]\n"
     ]
    }
   ],
   "source": [
    "print(df1)"
   ]
  },
  {
   "cell_type": "markdown",
   "metadata": {},
   "source": [
    "Lets now remove any stopwords if present in this data"
   ]
  },
  {
   "cell_type": "code",
   "execution_count": 58,
   "metadata": {},
   "outputs": [
    {
     "name": "stdout",
     "output_type": "stream",
     "text": [
      "['i', 'me', 'my', 'myself', 'we', 'our', 'ours', 'ourselves', 'you', \"you're\", \"you've\", \"you'll\", \"you'd\", 'your', 'yours', 'yourself', 'yourselves', 'he', 'him', 'his', 'himself', 'she', \"she's\", 'her', 'hers', 'herself', 'it', \"it's\", 'its', 'itself', 'they', 'them', 'their', 'theirs', 'themselves', 'what', 'which', 'who', 'whom', 'this', 'that', \"that'll\", 'these', 'those', 'am', 'is', 'are', 'was', 'were', 'be', 'been', 'being', 'have', 'has', 'had', 'having', 'do', 'does', 'did', 'doing', 'a', 'an', 'the', 'and', 'but', 'if', 'or', 'because', 'as', 'until', 'while', 'of', 'at', 'by', 'for', 'with', 'about', 'against', 'between', 'into', 'through', 'during', 'before', 'after', 'above', 'below', 'to', 'from', 'up', 'down', 'in', 'out', 'on', 'off', 'over', 'under', 'again', 'further', 'then', 'once', 'here', 'there', 'when', 'where', 'why', 'how', 'all', 'any', 'both', 'each', 'few', 'more', 'most', 'other', 'some', 'such', 'no', 'nor', 'not', 'only', 'own', 'same', 'so', 'than', 'too', 'very', 's', 't', 'can', 'will', 'just', 'don', \"don't\", 'should', \"should've\", 'now', 'd', 'll', 'm', 'o', 're', 've', 'y', 'ain', 'aren', \"aren't\", 'couldn', \"couldn't\", 'didn', \"didn't\", 'doesn', \"doesn't\", 'hadn', \"hadn't\", 'hasn', \"hasn't\", 'haven', \"haven't\", 'isn', \"isn't\", 'ma', 'mightn', \"mightn't\", 'mustn', \"mustn't\", 'needn', \"needn't\", 'shan', \"shan't\", 'shouldn', \"shouldn't\", 'wasn', \"wasn't\", 'weren', \"weren't\", 'won', \"won't\", 'wouldn', \"wouldn't\"]\n"
     ]
    }
   ],
   "source": [
    "stop_words = nltk.corpus.stopwords.words('english')\n",
    "print(stop_words)"
   ]
  },
  {
   "cell_type": "code",
   "execution_count": 59,
   "metadata": {},
   "outputs": [
    {
     "name": "stdout",
     "output_type": "stream",
     "text": [
      "                                               Resume Category  \\\n",
      "0   Ui-Developer/ React JS Developer \\n\\nNAME: KRI...    React   \n",
      "1   \\n [pic]\\n\\nPROFILE\\n\\n Searching for the oppo...    React   \n",
      "2   HARIPRIYA BATTINA \\n\\nExperience as UI Develop...    React   \n",
      "3   SARALA MADASU\\n\\nSARALA MADASU\\n\\n 204,Sri ge...    React   \n",
      "4   KAMALAKAR REDDY. A \\n\\nLinked In: https://www....    React   \n",
      "..                                                ...      ...   \n",
      "74  \\n                              CURRICULUM VIT...  Reactjs   \n",
      "75  Ranga Gaganam  \\n\\n\\n\\n \\n\\nProfessional\\n\\n \\...  Reactjs   \n",
      "76  SHAIK ABDUL SHARUK   \\n\\n2 years’ Experience i...  Reactjs   \n",
      "77  MAREEDU LOKESH BABU\\n\\n\\n\\nPROFESSIONAL OVERVI...  Reactjs   \n",
      "78  Venkatalakshmi Pedireddy\\n\\nSoftware Developer...  Reactjs   \n",
      "\n",
      "                                               Tokens  \\\n",
      "0   [ui-developer/, react, js, developer, name, kr...   \n",
      "1   [pic, profile, searching, for, the, opportunit...   \n",
      "2   [haripriya, battina, experience, as, ui, devel...   \n",
      "3   [sarala, madasu, sarala, madasu, , 204, sri, ...   \n",
      "4   [kamalakar, reddy, a, linked, in, https, //www...   \n",
      "..                                                ...   \n",
      "74  [curriculum, vitae, |anjani, priyadarshini, |o...   \n",
      "75  [ranga, gaganam, professional, summary, profes...   \n",
      "76  [shaik, abdul, sharuk, 2, years, ’, experience...   \n",
      "77  [mareedu, lokesh, babu, professional, overview...   \n",
      "78  [venkatalakshmi, pedireddy, software, develope...   \n",
      "\n",
      "                             Tokens_without_stopwords  \n",
      "0   [ui-developer/, react, js, developer, name, kr...  \n",
      "1   [pic, profile, searching, opportunity, bring, ...  \n",
      "2   [haripriya, battina, experience, ui, developer...  \n",
      "3   [sarala, madasu, sarala, madasu, , 204, sri, ...  \n",
      "4   [kamalakar, reddy, linked, https, //www.linked...  \n",
      "..                                                ...  \n",
      "74  [curriculum, vitae, |anjani, priyadarshini, |o...  \n",
      "75  [ranga, gaganam, professional, summary, profes...  \n",
      "76  [shaik, abdul, sharuk, 2, years, ’, experience...  \n",
      "77  [mareedu, lokesh, babu, professional, overview...  \n",
      "78  [venkatalakshmi, pedireddy, software, develope...  \n",
      "\n",
      "[79 rows x 4 columns]\n"
     ]
    }
   ],
   "source": [
    "# prompt: remove the stopwords from tokens_without_punctuation_lower\n",
    "\n",
    "df1['Tokens_without_stopwords'] = df1['Tokens'].apply(lambda x: [word for word in x if word not in stop_words])\n",
    "\n",
    "# Print the DataFrame with the new column\n",
    "print(df1)\n"
   ]
  },
  {
   "cell_type": "code",
   "execution_count": 60,
   "metadata": {},
   "outputs": [
    {
     "data": {
      "image/png": "[encoded data removed]",
      "text/plain": [
       "<Figure size 640x480 with 1 Axes>"
      ]
     },
     "metadata": {},
     "output_type": "display_data"
    }
   ],
   "source": [
    "# prompt: count the frequency of each word from above tokens_without_punctuation_lower_without_stopwords and construct a bargraph on it\n",
    "\n",
    "import matplotlib.pyplot as plt\n",
    "\n",
    "# Create a dictionary to store the frequency of each word\n",
    "word_frequency = {}\n",
    "\n",
    "# Loop through each token in the DataFrame\n",
    "for tokens in df1['Tokens_without_stopwords']:\n",
    "    for token in tokens:\n",
    "        # If the word is not already in the dictionary, add it with a frequency of 1\n",
    "        if token not in word_frequency:\n",
    "            word_frequency[token] = 1\n",
    "        # Otherwise, increase the frequency by 1\n",
    "        else:\n",
    "            word_frequency[token] += 1\n",
    "\n",
    "# Sort the dictionary by frequency in descending order\n",
    "sorted_word_frequency = sorted(word_frequency.items(), key=lambda item: item[1], reverse=True)\n",
    "\n",
    "# Extract the top 20 most frequent words\n",
    "top_20_words = sorted_word_frequency[:20]\n",
    "\n",
    "# Extract the words and frequencies\n",
    "words, frequencies = zip(*top_20_words)\n",
    "\n",
    "# Create a bar chart\n",
    "plt.bar(words, frequencies)\n",
    "\n",
    "# Set the title and axis labels\n",
    "plt.title('Frequency of Top 20 Words')\n",
    "plt.xlabel('Words')\n",
    "plt.ylabel('Frequency')\n",
    "\n",
    "# Rotate the x-axis labels for better readability\n",
    "plt.xticks(rotation=45)\n",
    "\n",
    "# Show the plot\n",
    "plt.show()\n"
   ]
  },
  {
   "cell_type": "code",
   "execution_count": 61,
   "metadata": {},
   "outputs": [
    {
     "name": "stdout",
     "output_type": "stream",
     "text": [
      "['experience', 'workday', 'peoplesoft', 'application', 'using', 'server', 'data', 'reports', 'project', 'business', 'database', 'web', 'sql', 'process', 'knowledge', 'worked', 'system', 'tools', 'involved', 'integrations', 'client', 'like', 'integration', 'skills', 'support', 'hcm', 'good', 'creating', 'development', 'working', 'team', 'people', 'services', 'technical', 'servers', 'design', 'report', 'testing', 'various', '--', 'created', 'security', 'eib', 'production', 'management', 'oracle', 'developer', 'issues', 'studio', 'responsibilities', 'environment', 'work', 'react', 'custom', 'core', 'role', 'domains', 'date', 'professional', 'new', 'scheduler', 'applications', 'requirements', 'test', 'windows', 'developed', 'code', 'fields', 'js', 'consultant', 'technologies', 'used', 'requirement', 'years', 'user', 'information', 'change', 'systems', 'summary', 'software', 'reporting', 'responsible', 'per', 'performance', 'based', 'developing', 'different', 'maintenance', 'roles', 'functions', '’', 'calculated', 'fscm', 'xml', 'technology', 'functional', 'configured', 'xslt', 'components', 'etc', 'e', 'implementation', 'till', 'setup', 'activities', 'load', '9.2', 'javascript', 'configuration', 'queries', 'details', 'environments', 'compensation', 'users', 'organization', 'tables', 'troubleshooting', 'n', '2018', 'solutions', 'expertise', 'level', 'education', 'job', 'create', 'file', 'html', 'document', 'description', 'projects', 'patches', '2017', 'status', 'interface', 'end', 'engineering', '●', 'databases', 'changes', 'objects', 'connectors', '1', 'architecture', '2019', 'processes', 'related', 'transformation', 'pum', 'service', \"'s\", 'bi', 'migration', 'name', 'multiple', 'modules', 'writer', 'ui', 'applying', 'hyderabad', 'inbound', 'instances', 'table', 'designer', 'communication', 'payroll', 'connector', 'v', 'peopletools', 'tool', 'university', 'advanced', 'updates', 'languages', 'college', 'duration', 'day', 'documents', 'administration', 'broker', 'tuxedo', 'maintain', '2', 'hr', 'upgrade', 'strong', 'understanding', 'ps', 'best', 'maintaining', 'files', 'configuring', 'procedures', 'monitoring', 'complex', '2016', 'engine', 'analysis', 'including', 'profile', 'power', 'pvt', 'query', 'tuning', '•', 'experienced', 'css3', 'bootstrap', 'assistant', 'outbound', 'building', 'designed', 'packages', 'operating', 'ability', '–', 'linux', 'basis', 'control', 'provide', 'customer', 'views', 'well', 'performed', 'installation', 'hrms', 'manager', 'company', 'time', 'enterprise', 'ltd', 'supporting', 'global', 'update', 'installed', 'pages', 'apply', '3', 'stored', 'types', 'css', 'object', 'layout', 'indexes', 'ssis', 'writing', 'uat', 'worker', 'html5', 'implemented', '2012', 'excellent', 'daily', 'high', 'india', 'check', 'creation', 'backups', 'dba', 'compare', 'bundles', 'internet', 'groups', 'setting', 'benefits', 'fixes', 'migrations', 'weblogic', 'designing', 'engineer', 'admin', 'career', 'ms', 'true', 'hands', 'tasks', 'r', 'component', 'absence', '|peoplesoft', 'profiles', 'pia', 'extensive', 'personal', 'employee', 'matrix', 'simple', 'mover', 'page', 'also', 'declare', '2020', 'jobs', 'enhancements', 'across', 'concepts', 'tracking', 'clients', 'build', 'performing', 'group', '|project', 'running', 'objective', 'hereby', 'unit', 'unix', 'triggers', 'etl', 'excel', 'enhancement', 'perform', 'source', 'providing', 'get', 'app', 'microsoft', 'generating', 'module', 'sending', 'year', 'redux', 'help', 'c', 'handling', 'cloud', 'installing', 'health', 'maintained', 'requests', 'finance', 'develop', 'flow', 'programming', 'school', '2014', 'life', 'analytical', 'internal', 'access', 'required', '9.1', 'tax', 'pic', 'specific', 'mysql', 'rules', '2015', 'teams', 'declaration', '10', 'english', 'joins', 'care', '|role', 'picof', '8.55', 'books', 'single', 'java', 'currently', 'regular', 'july', '4', 'implementing', 'individual', 'cases', 'implement', 'resolving', 'position', 'set', 'sub', 'plans', 'gathering', 'batch', 'logic', 'l', 'g', 'organizations', 'refreshes', 'balancing', 'industry', 'extensively', 'version', 'needs', 'hands-on', 'products', 'online', 'place', 'cycle', 'taking', 'jquery', 'existing', 'june', 'monitor', 'scripts', 'bangalore', 'built', 'account', 'cost', 'employees', 'cache', 'external', 'birt', 'third', 'party', 'migrating', 'sqr', 'search', 'international', 'b.tech', 'scheduling', 'present', 'loading', 'k', 'programs', 'administrator', 'log', 'audit', 'interfaces', 'current', 'refresh', 'intermediate', 'size', 'computer', 'quality', 'oct', 'managing', 'integrity', 'may', '12c', 'troubleshoot', 'modified', 'erp', 'adding', 'dt', 'r2', 'install', 'phase', 'analyzing', 'qualification', 'react.js', 'website', '5', '2013', 'limited', 'features', 'customers', 'models', 'interpersonal', 'platform', 'bachelor', 'known', 'order', 't-sql', 'dashboards', 'documentation', 'jan', 'handled', 'involving', 'domain', 'aug', 'task', 'records', 'workflow', 'framework', 'soap', 'indian', '2021', 'demo', 'telugu', 'educational', 'many', 'applied', 'exposure', '2011', 'post', '6', 'configurations', 'sandbox', 'staffing', 'dev', 'leave', 'solution', 'location', 'part', 'growth', 'hindi', 'tech', 'science', 'understand', 'one', 'around', 'conversion', 'proficient', 'builder', 'ssrs', '2008', 'transformations', 'aws', '7', 'insurance', '|description', 'hire', 'upgrades', 'u', 'supervisory', '|worked', 'dddaudit', 'sysaudit', 'track', 'package', 'birth', 'nationality', 'key', 'board', 'basic', 'reactjs', 'meet', 'title', 'ap', 'according', 'output', 'transfer', 'several', 'request', 'corporation', 'bank', 'training', 'player', '|duration', 'delivery', 'inbound/outbound', 'publisher', 'recruiting', 'condition', 'model', 'github', 'complete', 'feb', 'sources', 'operations', 'associate', 'junior', 'functionality', 'full', 'problem', 'mobile', 'defined', 'analytics', 'nov', 'weekly', 'completed', 'plan', 'within', '11g', 'image', 'validations', 'enable', 'lead', 'soft', '|environment', 'refreshing', 'world', 'phases', 'debugging', 'visual', 'developers', 'take', 'deployment', 'written', 'make', 'temporary', 'cte', 'retail', 'product', 'csv', 'error', 'problems', 'provided', 'field', 'center', 'preparing', 'regression', 'skill', 'consistency', 'areas', 'customized', 'configure', 'day-to-day', 'w', 'bug', 'keys', 'standards', 'front', 'node', 'address', 'processing', '“', '”', 'portal', 'identifying', 'sri', 'responsive', 'reddy', 'https', 'gender', 'furnished', 'write', 'every', 'type', 'presentation', 'billing', 'inventory', 'results', 'constraints', 'sales', 'find', 'checking', 'coordinating', 'includes', 'lookup', 'benefit', 'active', 'vendors', 'transporter', 'ccw', 'customizations', '|have', '|financial', 'checked', 'nodes', 'prod', 'cobol', 'rotary', 'script', 'forms', 'coding', 'front-end', 'deliver', 'solving', 'financial', 'members', 'learn', 'challenging', 'academic', 'office', 'mar', 'independently', 'august', 'proven', 'optimization', 'proficiency', 'specifications', 'scripting', 'dec', 'managed', 'integrated', 'run', 'qa', 'value', 'validation', 'merge', 'sequence', 'backup', 'p', 'bulk', 'talent', '|client', '|workday', 'adp', 'errors', 'closely', 'engines', 'success', 'lower', 'tenant', 'composite', 'sit', 'notifications', 'shell', 'peci', 'wipro', 'financials', '8.56', '8.54', 'alteraudit', 'cleared', 'download', 'ssl', '|responsibilities', 'agile', 'dom', 'router', 'git', 'managers', 'member', 'institute', 'electronics', 'use', 'ide', 'percentage', '..', 'jntu', 'delivered', 'designation', 'scope', 'marital', 'secure', 'scheduled', 'material', 'provides', 'organizational', 'planning', 'drill', 'april', 'purpose', 'needed', 'container', 'medical', 'policies', 'legacy', 'format', 'defects', 'prepared', 'hiring', 'long', 'hierarchies', 'defining', 'infotech', 'scratch', 'suisse', 'periodically', 'gateway', '9.0', 'logical', '|application', 'json', 'flux', 'oriented', 'leadership', 'months', 'b', 'converting', 'identify', 'target', 'march', 'secondary', 'api', 'resolution', 'belief', 'achieve', 'objectives', 'operators', 'pune', 'analyze', 'intelligence', 'generate', 'locations', 'area', 'levels', 'kumar', 'proper', 'infrastructure', 'maintains', 'join', 'send', 'validating', 'sep', 'execution', 'program', 'resolve', 'goals', 'following', 'templates', 'payments', 'customization', 'issue', 'wd', 'fix', 'accounts', 'sr.', 'prepare', 'inc.', '|ies', '|domain', 'installations', '8.53', 'passwords', 'bottleneck', 'db2', 'hsbc', 'krishna', 'sdlc', 'websites', 'events', 'jira', 'angular', 'permission', '``', 'major', 'visakhapatnam', 'raised', 'towards', 'meetings', 'relationships', 'supported', 'private', 'degree', 'father', 'male', 'traffic', 'store', 'designs', 'tickets', 'open', 'availability', 'android', 'successful', 'variables', 'customize', 'country', 'ddl', 'common', 'derived', 'aggregate', 'transactions', 'conducted', 'participated', 'record', 'strategy', 'alter', 'union', 'total', 'salary', 'effective', 'candidates', 'emergency', 'improvements', 'privileges', 'add', 'resolved', 'interaction', 'played', 'generators', 'assign', 'activity', 'crystal', 'defect', 'scenarios', 'mapping', 'successfully', 'approach', 'self', 'utilize', 'review', 'depth', '|and', 'elastic', 'resetting', 'award', 'cloning', 'patching', 'improving', 'history', 'future', 'responsibility', 'investment', 'learning', 'wireless', \"''\", 'impact', 'overall', '◉', 'state', 'improve', 'e.g', 'tested', 'challenges', 'ensure', 'ticketing', 'ltd.', 'include', 'monthly', 'importing', 'suite', 'commerce', 'manage', '2009', 'stock', 'athena', 'msbi', 'schedule', 'automation', 'advance', 'orders', 'coordinated', 'versions', 'highly', 'trace', '|technologies', 'extracting', 'provisioning', 'menus', 'ran', 'via', 'eibs', 'trending', 'standard', 'september', 'reported', 'sign', 'assignments', 'along', 'interact', 'positions', 'assigning', '|operating', 'tenet', 'toyota', '8.51', '|created', 'modification', 'resolutions', '|customer', '|credit', '|period', 'ses', '10g', 'imports', 'exports', 'space', 'rman', 'pt', 'spaces', 'goo', '⇨', '3.2', 'site', 'library', 'compilation', 'dynamic', 'kanpur', 'digital', 'leading', 'main', 'andhra', 'cgpa', 'ssc', 'achievements', 'positive', 'form', 'frameworks', 'healthcare', 'deadlines', 'implementations', 'participate', 'content', 'november', 'translate', 'deliverables', 'appropriate', 'hooks', 'sharing', 'transform', 'shared', 'dml', 'since', 'structures', 'countries', 'effort', 'ms-sql', 'ftp', 'two', 'mahindra', 'given', 'deploying', 'physical', 'recovery', 'workers', 'capital', 'repository', 'column', 'gl', 'conditional', '|team', 'assist', 'moving', 'vijayawada', 'recruitment', 'demographics', 'email', 'ci', 'contacts', 'calls', 'frame', 'acceptance', '9', 'incident', 'marketing', 'sessions', 'feedback', 'termination', 'orgs', 'queue', 'families', '|oracle', 'informatica', 'rest', 'posting', 'steps', 'schedules', 'move', '|web', 'sept', 'expected', 'call', 'verification', 'purchase', 'upgraded', 'retrofit', '10.3', 'dpk', 'images', 'elm', 'admin/peoplesoft', 'logs', 'jolt', 'os', 'upgrading', 'examining', '12cr2', 'randstad', 'php', 'scrum', 'spa', 'animations', 'restful', 'b-tech', 'additional', 'stand-alone', 'reusable', 'maps', 'jenkins', 'bring', '3+', 'contact', 'ag', 'got', 'course', 'pradesh', 'electrical', 'technological', 'done', 'go', 'bugs', 'affiliated', 'hard', 'optimized', 'satisfaction', 'grades', '2010', 'correct', 'usa', 'provider', 'contribution', 'vehicles', 'metrolabs', 'period', '15', 'golden', 'payment', 'fixing', 'female', 'particulars', 'libraries', 'thorough', 'construction', 'creations', 'hardworking', 'measures', 'dax', 'desktop', 'expert', 'publishing', 'apps', 'constructing', 'deploy', 'detailed', 'enhance', 'meeting', 'utilizing', 'relational', 'db', 'sub-queries', 'string', 'human', 'making', 'downstream', 'easy', 'american', 'innovative', 'live', 'plsql', 'utility', 'jntuk', 'certificate', 'rdbms', 'largest', 'jun', 'resource', 'hierarchy', 'cleaning', 'loop', 'modifying', 'schema', 'would', 'view', 'tier', 'layer', 'back', '8', 'ar', 'copy', 'split', 'execute', 'etc.', 'master', 'british', 'gas', 'seeking', 'techno', 'technically', 'connect', 'schedulers', 'monitored', 'getting', 'go-live', 'hris', 'share', 'executed', 'release', 'infosys', 'delivering', 'pay', 'centers', 'audits', 'mss', 'permissions', 'stakeholders', 'inbound/', 'fdd', 'bp', 'documenting', 'delta', 'core/cloud', 'senior', 'po', 'sound', 'timely', '|windows', '|responsible', 'mechanical', 'accenture', 'options', 'car', 'validate', 'list', 'requisition', '|data', '|modules', '24/7', '8.50', 'clearing', 'dedicated', 'disk', 'failover', 'platforms', 'psadmin', '|applications', 'awarded', 'non', 'executing', 'sys', 'ddd', 'nt', '|people', '64bit', 'rhel', 'dr', 'political', 'gbm', 'h', 'granting', 'verizon', 'redimix', 'concrete', 'map', '|title', '|for', 'audio', '✓', 'developer/', 'browser', 'concept', 'virtual', 'tags', 'stream', 'e-commerce', 'signal', 'communications', 'channel', 'hobbies', 'stories', 'functionalities', 'ready', 'food', 'abilities', 'apr', 'contributor', 'give', 'crm', 'j', 'conditions', 'sass', 'cricket', 'efficiently', 'stack', 'whenever', 'book', 'dob', 'contribute', 'qualifications', 'narayana', 'density', 'modifications', 'flexible', 'national', 'smart', 'experiences', 'centre', 'credit', 'consulting', 'manipulation', 'warehouse', 'procurement', 'menu', 'home', 'jawaharlal', 'nehru', 'expressions', 'necessary', 'stores', 'specification', 'flat', 'calculation', 'cube', 'willing', 'ssms', 'sure', 'primary', '16', 'tcl', 'word', 'discussions', 'stated', 'putty', 'workshop', 'ethical', 'ibm', 'sex', 'motivated', 'sas', 'dashboard', 'definition', 'right', 'strategies', '19', 'united', 'updating', 'result', 'b.sc', 'analyzed', 'pl/sql', 'transaction', 'loader', 'bolt', 'entry', 'revenue', 'codes', 'incidents', 'index', 'language', '|sql', 'text', 'babu', 'merit', 'vendor', 'heads', 'cr-change', 'bonus', 'x-path', 'uploading', 'discussion', 'contract', 'interview', 'gap', 'line', 'competencies', 'mba', 'entire', 'specialist', 'transfers', 'sla', 'grade', 'family', 'hires', 'oxygen', 'methodology', 'custom-report', 'presenting', '|xml', 'payables', 'updated', 'ae', 'prevention', '|create', 'eligibility', 'executive', 'scale', '100', 'possess', 'peoplecode', 'origin', '8.9', 'fluid', '8.57', 'latest', 'testers', 'red', 'hat', 'stacked', 'ansible', 'campus', 'cs', 'ib', 'axa', 'solaris', 'webserver', 'natural', 'motioning', 'em', 'awr', 'addm', 'datapump', 'material/plan', 'preventing', 'lists', 'hot', 'cold', 'multiplexing', '|key', '|main', 'nest', 'cascading', 'bar', 'plus', 'back-end', 'meets', 'regularly', 'previous', 'contains', 'grid', 'added', 'google', 'webpage', 'p.', 'journal', 'modelling', 'certification', 'qualities', 'score', 'reputed', 'methodologies', 'going', 'sciences', 'strengths', 'automate', 'attitude', 'event', 'above-mentioned', 'number', 'works', 'wesatage', 'eservices', 'cse', 'sai', 'govt', 'without', 'side', 'alerts', 'http', 'mac', 'interests', '∙', 'playing', 'quick', 'either', 'passing', 'gpa', 'reviewing', 'exceptional', 'goal', 'interacting', 'independent', 'hotel', 'banking', 'ecommerce', 'learner', 'trends', 'simplify', 'helps', 'login', 'sheets', 'columns', 'merging', 'packs', 'connection', 'keep', 'made', 'available', 'aid', 'convert', 'better', 'chain', 'promotion', 'visualization', 'region', 'biggest', 'retailer', 'option', 'agent', 'pharma', 'useful', 'way', 'temp', 'look', 'sort', 'synonyms', 'end-to-end', 'recursive', 'structure', 'workstation', 'winscp', 'profiler', 'wrote', 'exporting', 'another', 'nellore', 'offer', 'updation', 'deployed', 'statements', 'employment', 'purchases', 'department', 'risk', 'determine', 'preparation', 'b.', 'fuzzy', 'background', 'nsdc', 'certified', 'nano', 'workflows', 'clustered', 'non-clustered', 'ece', 'aetna', 'consumer', 'primarily', 'fully', 'disaster', 'reviewed', 'normalization', 'accounting', 'division', 'respective', 'fetch', 'month', 'backend', 'insert', 'multicast', 'energy', 'dump', 'patient', 'familiar', 'failures', 'january', '5+', 'onshore', 'reuters', '|may', 'analyst', 'headcount', 'documented', 'conversions', 'edits', 'prompt', 'values', 'interfaces/processes', 'developed/modified', 'picof/peci', 'letters', 'wsdl', 'studying', 'logics', 'cr-request', 'info', 'factory', 'clarifications', 'sourcing', 'logistics', 'panels', 'xtt', 'etv', 'exchanger', 'point', 'attendance', 'mentor', 'non-', 'peer', 'osmania', 'reference', 'template', 'one-time', 'servicenow', 'ticket', 'attributes', 'parent', '|erp', '|database', 'hardware', 'utp', 'automotive', 'manufacturer', 'worldwide', 'xpath', 'wd-soap', 'wd-', 'ge', 'in-depth', 'st', 'detection', 'solve', 'instance', 'bengaluru', 'balance', 'need', 'nagarjuna', 'calc', 'etv/xtt', 'dates', 'coordinate', 'allowance', 'restrictions', 'definitions', 'general', '|involved', 'range', 'small', 'sec', 'deptt', 'modify', 'cdk', 'person', 'mappings', 'guide', 'policy', 'purchasing', 'payable', 'route', 'firm', 'founded', 'switzerland', '|responsibilit|created', 'whose', '|developer', 'supplies', 'san', 'reliability', 'middle', 'reconfiguration', 'pre-compare', 'station', 'locking', 'unlocking', 'hrms/fscm/crm', 'r2/2008', 'r2/2003', 'capgemini', 'achievement', 'fscm92', 'hrms92', 'intensively', 'scaling', 'message', 'volume', 'redesigned', 'hosted', 'blocked', 'queued', 'attached', 'remote', 'ping', 'acceptable', 'housekeeping', 'twice', 'thrice', 'cpu', '2-tier', 'certificates', 'patch', 'fscm9.2', '|ibm', '|employer', '|tenure', '|support', '|working', '8.54.08', 'involves', 'administer', 'purposes', 'g.', '24', 'migrated', 'esa', 'bea', 'aix', 'updates/fixes/patches', '10.3/12c', 'uit', 'comprising', 'deployments', 'f', 'hp-ux', 'stat', 'administrator/', 'hrms9.2', 'pump', 'c++', '©', 'ciber', 'rights', 'reserved', 'itbm', 'nadu', 'capi', 'ct', 'compatibility', 'io', 's.', 'identified', 'mareedu', 'lokesh', 'rmc', '\\uf0b7', 'byron', 'device', 'low-level', '|this', 'to-do', 'styles', 'cross-browser', 'integrate', 'node.js', 'jntu-kakinada', 'bosch', 'auto', 'accessibility', 'directional', 'could', 'everyday', 'hub', 'rendering', 'tree', 'opportunity', 'thinking', 'boot', 'mongodb', '2019-present', 'schools', 'm.tech', 'publication', 'm.', 'october', 'matlab', 'techniques', 'internship', 'gate', 'singing', 'percentile', 'aspects', 'allows', 'real', 'case', 'anil', 'mpc', 'restaurants', 'ubuntu', 'extended', 'coordinator', 'hari', 'road', 'usability', 'integrating', 'research', 'aims', 'facility', 'submit', 'relationship', 'linked', 'cross', 'self-motivated', 'tractor', 'acts', 'url', 'computers', 'photoshop', 'social', '2.8', 'ideas', 'minimal', 'supervision', 'employer', 'predifast', '5th', 'base', 'staging', 'naveen', 'sadhu', 'wants', 'servicing', 'bike', 'directly', 'completion', 'naidupet', 'become', 'sensors', 'routing', 'action', 'compatible', 'pure', 'news', 'focus', 'pressure', 'mca', 'amoon', 'booking', 'layouts', 'vinay', 'familiarity', 'newer', 'organizer', 'companies', 'healthy', 'chef', 'diet', 'register', 'style', 'branch', 'adept', 'row', 'udf', 'property', 'clear', 'parameters', 'define', 'charts', 'improvement', \"'19\", 'canada', '70', 'retrieve', 'contributed', 'woolworths', 'deals', 'embedded', '2012/2016', 'procedure', 'variable', 'bravo', 'mainly', 'trained', 'rank', 'scd', 'changing', 'extraction', 'kinds', 'extract', 'owner', 'cr', 'leads', 'releases', 'pl/sql-oracle', 'diagrams', 'chaitanya', 'vmware', 'awards', 'cyber', 'resume', 'drive', 'confidential', 'redshift', 'python', 'teradata', 'brand', 'aditya', 'birla', '2007', 'supermarkets', 'hypermarkets', 'brands', 'head', 'logging', 'mariadb', 'tableau', 'dbms', 'media', 's3', 'id', 'offers', 'decision', 'jul', 'manages', 'functioning', 'elements', 'diploma', 'vinod', 'included', 'uk', 'scheme', 'facilitate', 'efficient', 'bridge', 'feb-2020', 'sells', 'traditional', 'wells', 'fargo', 'central', 'consisting', 'adhoc', 'prime', 'consists', 'mail', 'generated', 'things', 'inside', 'end-users', 'slowly', 'serving', '12', 'storage', 'pull', 'expression', 'instead', 'import', 'wizard', 'doctor', '2008r2', '1994', 'manipulate', 'priyanka', 'changed', 'cedars', 'assistance', 'and/or', 'consultants', 'analysing', 'terminations', 'turnover', 'achieving', 'applicant', 'technical-', 'thermo', 'fisher', 'scientific', 'bsc', 'unmarried', 'assisted', 'mass', 'skilled', 'feasibility', 'powerpoint', 'analysed', 'supports', 'kronos', 'amount', 'capabilities', 'loaded', 'serve', 'zenefits', 'e2e', 'oe', 'alignment', 'ensured', 'taken', 'eron', 'infoways', 'triage', 'discovery', 'complexity', 'automated', 'practices', 'contingent', 'reorganizations', 'sup', 'ess', 'boards', 'resources', 'relevant', 'allowances', 'requested', 'specified', 'capability', 'kakinada', '|core', 'ncr', 'ai-statement', 'motor', 'japanese', 'multinational', 'first', 'uses', 'selected', '3.6', 'prioritizing', 'reproducing', 'verifying', 'send/receive', 'actionable', 'tdd', '4+', 'architectures', 'designing/development', '|languages', 'mvel', '|hcm', 'iam', 'cal', 'configurable', 'third-party', 'otp', 'isu', 'rule', 'ion', 'polices', 'box', 'notification', 'fireeye', '|programming', 'swetha', 'scholastics', 'edit', 'root', '|american', 'aig', '80', '|january', '|provide', '|having', 'tgl', 'operates', 'fleet', 'trucks', '|integration', '|to', '|also', 'ajmer', 'jaipur', 'lecturer', 'wide', 'adopt', 'jade', 'married', 'q', '|systems', 'solar', 'catalent', 'segments', '4.2', 'thing', 'anyone', 'opportunities', 'us', 'movements', '17', 'architect', 'approval', 'vitae', '10th', 'psquery', 'sqrs', '|sqr', 'singh', '8.58', '|july', '|provided', '|gl', 'lease', '|bupa', '|amp', '|petco', 'animal', 'valid', 'hope', 'anticipating', 'motivations', 'budget', 'agility', 'driving', '12.2.1', '12.2.2', '12.1.3', '2012r2', '12.1.2', '2003', 'tax-updates', 'collaboration', 'r1/12c', '5/6', 'master/slave', 'pub/sub', 'method', 'unix/linux', '11.2.0.1', 'sso', '|personal', '2005', '|technology', '|school', '|june', 'autosys', '|version', 'star', 'extra', '8.55.07', 'glbus', 'locking/unlocking', 'quarterly', 'reviews', 'nprod', '3-tier', 'pre', 'admin/dba', 'ananda', 'rayudu', 'targets', 'datum', 'administrating', '|tuxedo', '|databases', 'copying', 'rac', \"sql's\", 'license', '5.0', '5.1on', 'lintel', 'config', 'delete', '11gr2', '12cr1', 'awe', 'headquarter', 'evanston', 'offices', 'together', 'leaders', 'humanitarian', 'encourage', 'vocations', 'goodwill', 'peace', 'non-sectarian', 'regardless', 'race', 'color', 'creed', 'religion', 'preference', 'globe', 'qat', 'guard', '11.31', 'synchronisation', 'settings', 'apache', '|the', 'native', 'additionally', 'server\\\\web', 'server\\\\process', 'weekly\\\\monthly', '10g/11g/12c', 'default', 'quotas', 'incremental', 'exp/imp', 'karnataka', 'extreme', 'nanded', 'overview', 'tamil', 'cuddalore', 'communicating', 'volley', 'manner', 'notes', 'firebase', 'obtained', 'appreciated', 'oﬃce', 'tag', 'cs6', '|mobile', '|responsive', 'travel', 'sites', '|designing', 'icon', '|architecture', 'ranga', 'gaganam', '04/2021', 'used-', 'nx', 'repo', 'orm', 'swagger', 'ui-developer/', 'js/web-', 'spas', 'fire', 'object-oriented', 'video', 'agsp', 'guar', 'age', 'react-router', 'turn', 'polish', 'reused', 'controlling', 'pushed', 'bugs/issues', 'called', 'screens', 'predefined', 'npm', 'slide-view', 'stable', 'tinplating', 'faster', 'react-auto', 'spring', 'nagar', 'capture', 'specifically', 'decisions', 'ui/ux', 'ug', 'vehicle', 'subjects', 'networks', 'li-fi', 'goswami', 'pp', 'indexing', 'factor', 'paper', 'ofdm', 'mimo', 'capacity', 'learned', 'graduate', 'strength', 'adaptability', 'willingness', 'watching', '|b.tech', '|sun', 'beams', 'exam', 'iit', 'phone', 'looking', 'guidance', 'effectively', 'blue', 'yonder', 'market', 'vs', 'actively', 'neerukonda', '6.7', 'restaurant', 'reservation', 'kind', 'believe', 'punctuality', 'teamwork', 'poster', 'facts', 'sarala', 'madasu', '\\ue9b3', 'boostarp', 'perspective', 'intention', \"it's./ass.ui\", '\\ue93b', \"it's/ui\", 'assigned', 'proactively', 'b.tech.', 'e-services/goa', 'govt.', 'gurgagon', 'e-services', 'citizens', 'management/goa', 'gurgaon', 'exactly', 'highest', 'kamalakar', 'versed', 'bucket', 'browsers', 'fortunapix', 'monarch', 'farmers', 'collection', 'cooking', 'music', 'thirupathamma', 'balla', 'enthusiastic', 'eager', 'eee', 'nodejs', 'jntuh', 'mern', 'eclipse', 'priorities', 'meaningful', 'sincerely', 'anantapur', 'arduino', 'delay', 'timing', 'demand', 'automatic', 'automatically', 'passes', 'carrying', 'solid', 'express', 'cross-platform', 'psd', 'cross-functional', 'hosting', 'verbal', 'permanent', 'pragnya', 'pattnaik', 'ajax', 'others', 'gandhi', 'resort', 'card', 'profitable', 'customizing', 'seo', 'user-facing', 'principles', 'ecma', 'proactive', 'adopting', 'emerging', 'addressing', 'stake', 'holders', 'on-site', 'supervisor', 'ambesttech', 'organic', 'signup', 'raw', '2.6', 'ambitious', 'enhancing', 'filters', 'kpi', 'insights', 'interactive', 'consistently', 'decision-making', 'timeline', 'accomplish', 'explaining', 'algorithms', 'relations', 'querying', 'february', 'discount', 'tabs', 'scatter', 'plots', 'pie', 'restrict', 'paginated', 'australia', 'selling', 'items', 'clothing', 'accessories', 'replicate', 'telangana', 'ample', 'ranking', 'venkateswara', 'tirupathi', 'feb/2019', 'ranges', 'user-defined', 'foreign', 'handle', 'syam', 'subqueries', 'naming', 'convention', 'loops', 'cursors', 'pvt.ltd', 'atc', 'publicly', 'broadcast', 'comprises', 'authentication', 'buddha', 'vamsi', 'fluentgrid', 'pentaho', 'electricity', 'tuned', 'board/university', 'hadoop', 'hive', 'driven', 'hacking', 'computing', 'raju', 'ramalakshmi', '2.5', 'valuable', 'accuracy', 'subsequently', 'formats', '30', 'hand', 'random', 'replace', 'metrics', 'mentioned', 't-', 'commands', 'amazon', 'rds', 'stakeholder', 'razorsql', 'heidisql', 'rstudio', 'nast', 'on-premises', 'logistic', 'advantage', 'particular', 'profit', 'certain', 'iiit', 'creates', 'element', 'integrates', 'credx', 'predictive', 'past', 'acquisition', 'cursor', 'drill-down', 'drill-through', 'sets', 'enroll', 'minimum', 'assessment', 'failed', 'populate', 'dimensions', 'pavana', 'kumari', 'xp/', 'directed', 'dental', 'behavioral', 'long-term', 'disability', 'employer-paid', 'partly', 'medicare', 'wage', 'exchange', 'bargain', 'employers', 'distribution', 'synopsis', 'dcl', 'optimizing', 'graduated', '04th', 'sever', 'precise', 'appraisal', 'compliance', 'terms', 'ireports', 'communicate', 'manipulated', 'mishra', 'grants', 'materialized', 'adapt', 'quickly', 'b.e', 'transition', 'coming', 'processed', 'sends', 'received', 'm-one', 'mot', 'produce', 'fulfill', 'ramesh', 'gain', '3.5', 'checkpoints', 'parameterized', '2008/2012', 't-mobile', 'abstract', 'clustered/non-clustered', 'periodic', 'dimension', 'multi', 'pdf', 'kingdom', 'million', 'supplier', 'six', 'diverse', 'select', 'criteria', 'export', 'sv', 's.s.c', '|march', '|till', '|end', 'appointments', 'medicine', 'always', 'patients', '|development', '|writing', '|requirement', 'containers', 'command', 'count', 'destination', 'mechanism', 'devices', 'failure', 'highlights', '2008,2012', 'ot', 'pharmacy', 'journals', 'competitive', 'coordinates', 'boarding', 'term', 'coordinators', 'corrective', 'preventive', 'thomson', '|technical', '|integrations', '|thomson', '2018-till', 'capturing', 'annual', 'himaja', 'greater', '2+', 'loads', 'demographic', 'xsd', 'xp/vista/windows7/8', 'network', 'references', 'initial', 'arrangement', 'interviews', 'initiate', 'faithfully', 'variety', 'phones', 'helped', 'frd', 'properly', 'xml/xslt', 'workforce', 'iload', 'director', 'fetched', 'deviation', 'foundation', 'producing', 'function', 'adhere', 'signed', 'architectural', 'c2h', 'tachus', 'special', '-1', '2020-', 'comprehensive', '2019-', '-3', '2017-', 'onetime', 'tests', 'lawson', 'associates', 'directors', 'giving', 'channels', 'networking', 'candidate', 'tight', 'practice', 'ensuring', 'yrs', '3.10', 'modifying/troubleshooting/enhancing', 'promotions', 'demotions', 'careful', 'supervisory/matrix', 'divide', 'inactivate', 'subordinates', 'org', 'desire', 'backlog', 'vision', 'company-', 'tcs', '|management', '-till', 'formerly', 'cash', 'businesses', '2.0', 'headquartered', 'japan', 'input', 'tenants', 'prototyping', 'catamaran', 'assisting', 'chinna', '5.1', 'talend', 'appworx', 'maestro', 'progile', 'terminate', 'conjunction', 'collaborate', 'builds', 'encountered', 'summery', 'scoping', 'maintenance/support', 'stlc', '|change', 'deduction', 'banglore', 'outputs', 'remove', 'closing', 'ccb', 'generic', 'inputs', 'collaborating', 'bachelors', 'fcm', 'hcm|fcm', 'workday-out', 'aggregator', 'itc', 'currency', 'rates', 'worktag', 'aging', 'newly', 'chennai', '2006', 'befit', '401', 'recuring', 'community', 'activating', 'issg', 'kl', 'dash', 'ownership', 'delegation', 'shift', '|report', 'cybersecurity', 'attacks', 'intersection', \"client's\", 'causes', 'problem-solving', 'three', '|retirement', 'standalone', '|insurance', 'retirement', '|zealand', 'nbox', '|changes', '|design', '|used', '|toll', 'pacific', 'vessels', '|has', 'trailers', 'units', 'malaysia', 'of|', 'jyoti', 'verma', 'translating', 'r.b.s.e', 'saints', 'raj', 'electronic', 'superior', 'guravaiah', 'step', 'workbooks', 'worksheet', 'design/', 'volumes', 'editor', 'ventures', 'grouping', 'leaves', 'xp', 'corrections', 'manufacturing', 'supply', 'electric', 'city', 'rahul', 'project-2', 'dealerships', 'manufacturers', 'although', 'operate', 'comparison', 'means', 'still', 'matters', 'wherever', 'significant', 'accommodate', 'requisitions', 'madeeswar', '|tools', 'inc', 'specialty', 'states', 'generator', 'gopi', 'kannada', 'hourly', 'arithmetic', 'maximum', 'fundamentals', 'clarify', 'phoenix', 'az', 'daily/weekly', 'priyabrata', 'hota', 'separate', 'exceltoci', 'retrofitting', 'ptf', 'december', '|converting', 'attachments', '|batch', 'catchup', '|require', 'cutover', '|ess', 'behalf', 'manual', 'response', 'warranty', '|go-live', '8.51/8.56', '|laboratory', 'america', 'holdings', '|healthcare', '|peopletools', 'peoplesoft|', 'expenses', 'classic', '|did', 'show', 'petco', '7.5', '10.3.6', '5.4', '9.0/9.1/9.2', 'r1/12.1.3', '10gr2/11gr2/12cr1/12cr2', 'cognizant', 'white', 'web/app', 'globally', 'shall', '06/2019', 'offshore', 'vulnerabilities', 'vulnerability', 'docker', 'techmahindra', 'role/project', 'gained', 'trouble', 'shooting', 'tivoli', 'tws', 'ca', 'administering', 'tailored', 'occurred', 'connected', '8.49', 'read', 'iws', 'idea', 'phire', 'bengali', '|year', '|engineering', 'higher', '|burdwan', '|municipal', '|accenture', '|october', '|make', '|can', 'ndm', '|update', 'checkout', 'cob', '|experience', 'tracing', '|objects', '|ps', '|in', '|supporting', 'rising', 'recipient', 'sirazuddin', 'engg', '12th', 'q1', 'pat', 'sol', 'augus', 'voya', 'administrative', '8.55.25', '8.56.10', 'toad', 'e-procurement', 'unique', 'texas', '12.2.2.0', '12.2,3', 'jdk', 'inconsistency', 'pan', 'tanna', 'sujatha', 'deep', 'zp', 'interactions', '|reporting', 'ren', 'nvision', 'hrcs', 'pt8.53', 'qatar', 'kept', '8.1/oracle', 'oel', 'administrator/dba', 'dbs', 'parameter', 'clearly', 'concisely', '8.9/9.1/9.2', 'ledger', 'hp', '8.53/8.54', 'allow', 'static', 'pre-defined', 'park', 'ariba', 'started', '75', '4.4', 'socket', 'tax-', '|manager', '9.0/9.1/9.2|', '10.3.6/12c', '5.5/6.5/7', 'dxc', 'dc', 'vm', 'accessing', 'downloading', 'appling', 'balancer', 'clustering', 'setups', 'utilities', '4.6', 'waf', 'may-2020', 'catalogues', 'overseeing', 'murali', 'tamilnadu', 'dedication', 'knowledgeable', 'usage', 'ppm', 'checks', 'control-m', 'tomcat', '7.0.39', '7.0.52', '|configuration', '|education', 'girls', '|tamil', 'oral', 'surfing', 'classification', 'pt8.55', '9th', 'beyond', '8.56,8.57', 'hartford', 'relevent', '|12c', '|oct', 'fluent', 'agriculture', 'iot', 'water', 'ravali', 'curriculum', 'ee', 'ob', 'je', 'polytechnic', 'examination', 'sslc', 'globalization', 'ql', 'rd', 'oo', 'ing', 'ow', 'dg', 'bq', 'xt', 'z', 'sprint', 'zerozilla', '200', 'iti', 'wi', 'la', 'md', 'khizaruddin', 'rauf', 'resourceful', 'maharashtra', 'marathi', 'wireframe', 'pattern', 'react-redux', 'versioning', 'vkr', 'vnb', 'agk', 'gudiwada', '76.4', 'bootstap', 'netbeans', 'installers', 'xampp', 'instant', 'mix', 'both.it', 'shipping', 'improves', 'participation', 'profiling', 'dynamically', '.close', 'follow', 'maganti', 'signature', 'prabakaran', 'gopuram', 'seems', 'patterns', 'todo', 'pranish', 'sonone', 'jr.', 'es6', 'github-link', 'deleting', 'facebook', 'pragati', 'prasad', 'large', 'pixel', 'directives', 'diﬀerent', 'dependency', 'injection', 'places', 'lines', 'drop', 'hamburgers', 'priyadarshini', '|sr', '|react', '|online', '|html', '|jquery', '|work', '|company', '|quaqua', '|current', '|dec', '|we', 'charge', '|quality', '|https', 'a|', '-css', 'sr', 'unitedhealthcare', 'takes', '|more', '|performance', 'illustrator', 'fosgate', 'lab', 'ec', 'shaik', 'abdul', 'sharuk', 'lidar', 'volunteering', 'curricular', 'personality', 'traits', 'kindness', 'prakash', 'plant', 'yii', '03/2019', '04/2019', '-technologies', 'wheeler', 'apparel', 'proﬁciency', 'searching', 'cater', 'critical', 'problem-', 'css3/bootstrap', '05-apr-1991', 'microservices', 'braino', 'delhi', 'aws/azure', 'kailash', 'vrindavan', 'up-281121', 'icredit', 'keeps', 'dumping', 'expose', 'rest-api', 'endpoint', 'consumes', 'shown', 'beautiful', 'update/delete', 'read-only', 'investors', 'suggesting', 'iaeng', 'freelancer', 'association', 'engineers', '197174', 'fundraiser', 'ngos', 'html/css/javascript/adobe', 'xd/figma', 'professor', 'naraina', 'vidyapeeth', 'supervised', 'gsm-based', 'theft', '2017-2019', 'taught', 'emft', 'thesis', 'shukla', 'transceiver', 'vol.8', 'no.4', '71-86', 'doi', '10.4236/wet.2017.84006', '2-year', 'google-based', '2-gjif', '1.88', 'published', '17,329', 'downloads', '26,387', 'simulations', 'leader', 'next-generation', 'cellular', 'lan', 'broadcasting', 'simulation', 'papr', 'reduction', 'presented', 'bharat', 'sanchar', 'nigam', 'bsnl', 'titled', \"'broadband\", 'splicing', 'fibre', 'optics', 'aptitude', 'nptel', 'spirit', 'sense', 'sci-fi', 'movies', 'gaming', 'pc', 'fullstack', 'pavas', '|m.tech', '|harcourt', 'butler', 'hbtu', '|2015-2017', '|maharana', 'pratap', '|2009-2013', '|affiliated', 'uttar', 'uptu', '|intermediate', '|2009', '|high', '|2007', 'qualified', '605', '98.47', 'introduction', '89', 'circuits', '94', 'madras', 'haripriya', 'battina', '+91', '9908576950', 'gmail', 'haripriyabattini', 'gmai.com', 'put', 'concerning', 'th', 'want', 'developr', 'copernicus', 'moto', 'gtm', 'specially', 'shower', 'partners', 'nri', '72.2', 'a.p.s.w.r', 'pedapadu', 'srikakulam', '7.8', 'serves', 'radian', '2k18', 'farewell', 'isolely', '………………………', 'priya', '\\ue947', '204', 'geethika', 'prestige', 'bandari', 'nizampet', 'hyderabad,500090', 'ui-applications', 'proﬁcient', 'architecture/frame', 'domain.involved', 'stressful', '\\ue9ae', '\\ue9aesoftware', 'completing', 'speciﬁcation', 'reactive', 'ﬁnding', 'ﬁts', 'wise', '2011-2015', '\\ue906', '\\ue906sri', 'devaraya', '2009-2011', '\\ue9a5', '\\ue9a5inter', 'initiated', 'goa', 'government.the', 'identiﬁed', 'lok', 'seva', 'kandra', 'lsks', 'customers.providing', 'want.crm', 'individualized', 'proﬁtable', '//www.linkedin.com/in/kamalakar-reddy-777682196/', 'applicationsrelated', 'bit', 'fixed', 'interpersonalskills', 'multitasking', 'negative', 'timelines', 'orquality', 'enlume', 'limitd', 'impacts', 'intended', 'effects', 'helpful', 'weather', 'mt', 'suit', 'lernbook', 'digitalization', 'modern', 'antigua', 'barbuda', 'caribbean', 'islands', 'digitalize', 'animates', 'jqery', '//demo.fortunapix.com/kkel/', 'arena', 'animation', 'dilsuknagar', 'g.pullareddy', 'pg', 'librarys', 'webtechnologies', 'operatingsystems', 'scriptinglanguages', 'listening', 'sname', 'murahari', 'maritalstatus', 'madhapur', '.a', 'assimilate', 'ever', 'missing', 'deadline', 'brief', 'it-software/software', '1999', 'c.', 'institution', 'tirumala', '7.2', 'krishnaveni', '8.2', 'little', 'angels', '8.7', 'applebee', '.net', 'azure', 'peer-code-review', 'marri', 'laxman', 'framework7', 'ides', 'mongo', 'inline4', 'edvenswa', 'slot', 'negotiate', 'conflicting', '22-03-1997', 'kanumuru', 'deepak', 'percentage/cgpa', 'e.c.e', 'audisankara', 'gudur', '77.3', '89.5', 'navodaya', 'duration:4', 'congestion', 'severe', 'cities', 'nightmare', 'caused', 'inappropriate', 'signalling', 'light', 'coded', 'depend', 'therefore', 'optimising', 'increasing', 'systematic', 'sensing', 'junction', 'microcontroller', 'ir', 'ultrasonic', 'transmitter', 'receiver', 'mounted', 'poles', 'gets', 'activated', 'receives', 'close', 'crud', 'creator', 'reducer', 'draggable', 'react-grid-layout', 'tables/grid', 'react-table', 'ag-grid', 'office-fabric-ui', 'apis', 'cross-device', 'converted', 'hand-written', 'represent', 'voice', 'influence', 'consult', 'throughout', 'rollout', 'understood', 'communicated', 'appropriately', 'deletions', 'august,1997', 'mr.', 'k.sudhakar', 'h.no:5-8-171/3', 'bmr', 'mention', 'k.deepak', 'typescript', 'methodolgy', 'honest', 'communicator', 'focused', 'client/customer', 'optimally', '7,8,10', 'saga', 'thunk', 'ignou', 'indira', 'odisha', 'edge', 'conventional', 'conference', 'hall', 'debit', 'easily', 'chrome', 'g2evolution.co.in', '//g2evolution.co.in/', 'g2evolution', 'attractive', 'persional', 'odiya', 'maryala', ':1', 'epc', 'parallelization', 'project:2', 'materials', 'see', '-present', 'nazeer', 'basha', 'talented', 'broad', 'furthermore', 'competently', 'designing/building', 'stunning', 'reports/dashboards', 'slicers', 'on-premise', 'appending', 'datasets', 'gateways', 'workspace', 'business/stakeholder', 'identity', \"'18\", 'pride', 'maharastra', 'context', 'indicators', 'kpis', 'decide', 'chart', 'redefine', 'technical/strategic', 'calculations', 'graphs', 'suggestions', \"'21\", 'beauty', 'household', 'textiles', 'house', 'wares', 'decor', 'sold', 'collecting', 'transferred', 'tabular', 'everything', 'cubes', 'morethan', 'pointing', 'taskis', 'entirelydifferent', 'blending', 'ssas', 'bandi', 'prem', 'isolation', 'concurrency', '8/10', 'ms-outlook', 'b.c.a', 'techasoft', 'oct-2018', 'ii', 'haematology', 'cares', 'protection', 'well-being', 'spectrum', 'strengthening', 'start-ups', 'offering', 'novel', 'diagnostics', 'personalized', 'treatment', 'pharmaceuticals', 'codi', 'e-', 'nov/2018', 'sell', 'laptop', 'printers', 'upstream', 'fill', 'millions', 'buy', '2.3+', 'pulling', 'combining', 'magic', 'union-all', 'bases', 'restores', 'destinations', 'notepad', 'volaris', 'group-tarantula', 'm.c.a', 's.v', '2014-', 'project/', 'tower', 'tarantula', 'held', 'operator', 'saas', 'proposition', 'medium', 'opco', 'towerco', 'towers', 'workflow-integrated', 'completely', 'discussed', 'preparations', 'transferring', '2.11', 'creating/modifying', 'methods', 'kettle', 'aug-2018-present', 'im', 'ndmc', 'kesco', 'uppcl', 'ugvcl', 'enabled', 'school/college', 'dadi', '71.71', '78.1', 'cambridge', '76.8', 'sybase', 'ase', '15.7', 'devops', 'windows7/xp', 'centos', 'connecting', 'solo', 'dell', 'sonic', 'vpn', 'spoon', 'eco-system', 'pig', 'sqoop', 'hbase', 'impla', 'scala', 'c-language', 'siimad', 'symbyosis', 'innovation', 'intelligene', 'moblie', 'miracle', 'sse', 'bitd', 'forensics', 'nit', 'warangal', 'cybercure', 'bluemix', 'diet-nss', 'b.dharma', 'mother', 'b.jaya', 'lakshmi', '22-08-1994', 'pursue', 'utilizes', 'enhances', 'sqlserver', '/microsoft', 'aws-redshift', 'result-driven', 'dwh', 'efficiency', 'languages/technologies', 'numpy', 'pandas', 'matplotlib', 'maths', 'physics', 'chemistry', 'chandra', '2011-2013', '81.3', 'brahmaiah', '2013-2017', '72', 'bixware', 'earlier', 'mrl', 'formley', '43', 'billion', 'ventured', 'grocery', 'sectors', 'expanded', 'presence', '750', 'aimed', 'shopping', 'delivers', 'unbeatable', 'fourth', 'supermarket', 'hypermaket', 'group.the', 'marts.sales', 'low', 'odc', 'automating', 'operational', 'describing', 'mart', 'narasimha', 'rao', '12-may-1996', 'tipparajuvari', 'street', 'vrc', 'mumbai', 'aradhana', 'tripathi', 'gachibowli', 'accomplished', 'bigdata', 'hql', 'bfsi', 'condé', '//www.condenast.com/', 'jigyasa', 'llc', 'conde', 'scalability', 'final', 'scoring', 'push', 'stagging', 'came', 'frequency', 'visits', 'gross', 'net', 'normalize', 'describe', 'pertaining', 'aforementioned', 'retrieval', 'applicants', 'factors', 'affecting', 'mitigate', 'forest', 'fitted', '3.2/4', 'aks', '2.2years', '2014,2016', 'sample', 'importing/exporting', 'excel/flatfile', 'restoring', 'exeperience', 'coloumn', 'floe', 'excute', 'containres', '-each', 'subscriptions', 'ananthapuramu', 'may-2019', 'envirnoment', 'nano-bi', 'placements', 'sip', 'pmkvy', 'non-pmkvy', 'fee-based', 'batches', 'centres', 'enrolling', 're-assessment', 'passed', 'placement', 'emailer', '2.10', '2014/2017', 'square', 'm.p.c', 'vardhana', '2014/2012/2017', 'pharmaceutical', 'stone', 'wood', 'sep-2018', 'replacement', 'injured', 'mandatory', 'relinquishment', 'sue', 'tort', 'negligence', 'trade-off', 'assured', 'coverage', 'lack', 'recourse', 'outside', 'solved', 'becoming', 'insolvent', 'damage', 'referential', 'recommended', 'preferences', 'ad-hoc', 'happy', 'kamballa', 'pradeep', 'forward', 'aspire', 'hardly', 'transact-sql', 'clause', 'server2008r2/2012', 'grasp', 'presentations', 'authoring', 'indexed', 'venkateshwara', 'tirupathi,2018', 'coginic', 'jun-2018', 'olap', '2012,2016', 'late', '1990s', 'modular', 'houses', 'participants', 'comments', 'ems', 'wfcf', 'centralized', 'consolidated', 'angularjs', 'highlighting', 'ado.net', 'dal', 'showing', 'viewer', 'populating', 'dw', 'optimizations', 'neeraj', 'pl\\\\sql', 'exception', 'securities', 'pseudo', 'acclimatize', 'culture', 'able', 'shifts', 'rgpv', 'bhopal', 'fabex', '18c', 'window', 'heart', 'back-office', 'pricing', 'invoicing', 'recognition', 'come', 'feeds', 'quantum', 'altered', 'sequences', 'trigger', 'throw', 'sub-queries/co-related', 'l/sql', 'exclusively', 'graphic', 'statement', 'upon', 'néeraj', 'showcase', '8r2', 'cte/derived', 'transforming', 'bids', 'ssdt', 'bcp', 'for-each', 'multi-cast', 'handler', 'sub-reports', 'oltp', 'group-by', 'deal', 'tietoevryindia', 'april-2020', 'cart', 'category', 'sub-category', 'correlated', 'involve', 'groupings', 'multi-value', 'claim', 'fee', 'bills', 'documentations', 'import/export', 'vice', 'versa', 'printing', 'flash', 'may-2018', 'trading', 'heating', 'subsidiaries', 'centrica', 'homes', 'considered', 'dominate', 'determined', 'planned', 'back-up', 'restored', 'rewarding', 'growth-oriented', 'gives', 'i.t', 'simplifying', 'finding', 'combines', 'results.s', 'cast', 'transactional', 'm.com', '2014-2016.', '20011-', '2014.', '2009-2011.', '|organisation', '|designation', '|oscorp', 'systems|', '|digital', 'size|8', '|start', '|e-knowledge', '|browser', 'internet|', '|instead', 'appointment', '|doctor', '|prescribe', 'patients-knowledge', '|care', 'prescriptions', '|their', '|which', 'convenient', '|be', 'comfortable', '|prescriptions', 'confidentially', '|four', 'e-knowledge', 'are|', '|patient', '|general', '|coordinating', '|contribution', '|developed', '|functions', '|correlated', 'database.|', '|reviewing', '|modifying', '|norton', 'hospital', 'linguistic', 'maddukuri', '2.4', 'except', 'intersect', 'oledb', 'typical', 'loggings', 'check-points', 'break', 'points', 'snapshot', 'restore', '2016/2012/2008', 'imagine', 'revert', 'create/update', 'ctes', 'diversified', 'handlers', 'sequential', 'drilldown', 'velagapudi', 'siddhartha', 'storedprocedures', 'scd1', 'scd2', '7.0', 'perigon', 'horizon', 'sinai', 'registration', 'outpatient', 'op', 'inpatient', 'ip', 'caters', 'professionals', 'visionary', 'doctors', 'nursing', 'physiotherapy', 'paramedical', 'allied', 'offerings', 'micro', 'consultation', 'lives', 'dispensed', 'diseases', 'dataflow', 'scd-i', 'naresh', 'cherukuri', 'demonstrate', 'strongly', 'enables', 'fulfilling', 'analysts', 'particularly', 'amend', 'emea', 'fit/gap', 'sheet', 'holding', 'intervals', 'actions', 'academics', 'expertise|core', '|compensation', '|xslt', 'transformer', 'editing', '|apr', '-apr', 'day-', 'to-day', 'remaining', 'involvement', 'integrations-', 'raas', 'dependent', 'dev-qa-prod', 'tirupathi-2018', 'hr-executive', 'duplicity', 'requirements/plan', 'mode', 'screening', 'shortlist', 'shortlisted', 'non-technical', 'managerial', 'coordination', 'team/business', 'submitted', 'harikrishna', 'akula', '5.2', '3.8', 'researched', 'workarounds', 'conversations', 'commendable', 'launching/', 'techno/functional', '8,9.0,9.1', 'due', 'code/tracing', 'swot', 'iloads', 'visio', '365', 'workdayconsultant', 'sancus', 'touchnet', 'identify/resolve', 'responding', 'prior', 'brd', 'routine', 'insight', 'governance', 'clarified', 'covered', 'slack', 'establishes', 'occur', 'timekeeper', 'cc', 'si', 'receive/send', 'fidelity', '401k', 'contributions', 'pre-tax', 'mentorship', '26/27', 'retire', 'affigent', 'issues/resolutions', 'fine-tuned', 'bringing', '8.50/54', 'bachelore', 'civil', 'avr', 'svr', 'techology', 'nandyala', 'shireesh', 'balasani', 'tester', 'hr/p', 'owned/participated', 'upload', 'outage/communication/updates', 'i.e', 'high-', 'conceptual', 'traceable', 'projects/enhancements', 'formally', 'sustain', 'standardization', 'roadmap', 'it-infosys', 'hcm-hr', '2017.', 'skillset', '2008/2012/xp/vista/7/8', 'elective', '2009-june', '2010.', 'enrollment', 'end-to-', 'engaged', 'risk-based', 'bau/client', 'implemented/initiated', 'onshore/offshore', 'raising', 'severity', 'recognizing', '2015-aug', 'suite-', 'identification', 'detailing', 'cases/scenarios', '2018-', 'finalize', 'gaps', 'integration/interfaces', 'transformation/', 'hired', 'seamless', 'colleagues', 'self-sufficient', 'possible', 'intranets', 'propose', 'priority', '2015-', 'profile/job', 'legal', 'entity', 'rule/function/business', 'subordinate', 'hands-', '2010-oct', 'ways', 'reduce', 'improved', 'processes/systems', 'insure', 'predetermined', 'opens', 'liaison', 'confidence', 'groom', 'evolving', '2.2', 'recruitments', 'referrals', 'hunting', 'management/', 'prescribed', 'adhering', 'likelihood', 'tat', 'loss', 'ratio', 'speedy', 'grievances', 'maximize', 'partnering', 'force', '6.10', 'grooming', 'cts', 'mar-', 'riosoft', 'aug-', '|integrations-eib', '|business', '10g,11i', '|ms-dos', 'implementation/enhancements', 'us-based', 'transact', 'self-service', 'kiosks', 'point-of-sale', 'terminals', 'teller', 'machines', 'barcode', 'scanners', 'consumables', 'builders', \"outbound's\", 'usually', 'shortened', 'aichi', 'corporate', 'consisted', '364,445', 'sixth-largest', 'second-largest', 'automobile', '200-millionth', 'listed', 'connecters', 'absent', 'schaumburg', 'il', 'rx', '-jul', 'off-shore', 'fy14', 'spin-off', 'ev3', 'parsing', 'follows', 'produces', '11i', 'subbarayudu', '06th', 'yogi', 'vemana', 'kadapa', 'south', 'west', 'airlines', 'june2019-', 'arbella', 'dec2017–', 'may2019', 'hcm/payroll', 'population', 'lakh', 'demographical', 'leading-edge', 'sign-off', '–nov', 'subbarayudus', 'great', 'commitment', 'end-', 'to-', 'artifacts', 'efforts', 'integration/interface', 'soa', 'licenses', 'incoming', 'sme', 'agile/scrum', '|ide', '|software/', '|products', '|inbound/outbound', 'aptiv', 'digee', 'vanguard', '32', 'replicon', 'delphi', 'leveraged', 'robust', '27/28/29/30', 's.s', '6+', 'procure', 'assets', 'expense', 'picoff', 'workday-in', 'a-sync', 'mediation', 'splitter', 'csv-to-xml', 'bau', 'sr.workday', 'anniversary', 'initiation', 'mangers', 'arrange', 'trail', 'spend', 'categories', 'pt-8.53', 'c.s.e', 'bharath', 'pe', 'guntur', 'srikanth', 'suitable', 'grow', 'notice', 'trainings', 'ccw/picof', 'kt', 'internally', 'lms', 'ci.xml', 'nga', 'touchpoint', 'salesforce', 'hplm', 'syncope', 'individuals', 'hrit', 'accept', 'exciting', 'obj', 'gdw', 'sti', 'lti', 'sfdc', 'start', 'proxy', 'hrss', 'aug-2017', 'july-2018', 'ccw/peci', 'utilized', '3.3', 'removed', 'unnecessary', 'work-lets', 'announcements', 'hyperlink', 'local', 'gathering/clarifying', 'reassignments', '|security', '|birt', 'traded', 'milpitas', 'california', 'investigate', 'protect', 'malicious', 'risks', 'estimation', 'qis', 'regards', 'punugoti', 'contour', 'venkateswarlu.b', '5.3', 'must', 'lifecycle', 'namely', 'custom-reports', 'integrations/', 'coupled', 'outstanding', 'negotiation', '|picof', 'lang', '|soap', 'xp/windows7/10', 'genpact', \"may'2018\", 'osi', \"mar'2016-\", \"apr'2018\", '|aig', '|operations', 'jurisdictions', 'employed', '49,600', 'company|', '|operates', 'technology-enabled', 'subsidiary.general|', 'commercial', 'u.s.', '|international', 'institutional', '|markets.aig', 'proud', 'sponsor', 'women', 'golf', 'new|', 'rugby', '|responsibilit|involved', '|prepare', '|documents', '|trending', '|recruitment', 'ccw/weci', '|issues', '|utilized', '|text', '|processes', '|hands-on', 'lower|', '|tenet', 'at|', '|inbound', 'toll', '|provides', 'the|', '|asia', 'transport', '|warehousing', 'value-added', '|fleet', 'air', 'sea', 'rail', '19,000', 'courier', '|movers', 'b-doubles', '13,000', '|ships', 'aeroplanes', 'asia', '|region', 'singapore', '|owning', 'cargo', 'ships', 'ferry', 'from|', '|nearby', 'ports', 'neighbouring', 'indonesia', '|trucks', 'hino', 'fuso', 'ud', 'movers', 'roughly', 'seven', 'vietnam', '300', '|responsibilit|building', '|calculation', '|leave', '|building', '|tool', '/outbound', '|external', '|perform', '|errors', 'roll', 'degree/exams', 'institute/board', '65.68', '12\\u200bth', '2004', '58', '10\\u200bth', '2002', '77', 'icroz', 'jan2015', 'aug2012', 'yagvalkya', 'counselor', 'march2011', 'july2012', 'mayurakshi', 'jodhpur', 'oct2009–', 'feb2011', 'religare', 'project-1', 'arts', 'ordinates', 'mooraboyina', 'carrier', 'profession', 'often', 'reports11', 'xmlp', '30/31/32/33/34', 'persanal', 'danaiah', '15-02-1992', 'hima.mendu', 'continue', 'growing', 'cloud-based', 'beginning', 'assignment', 'path', 'i-fact', 'maternity', 'encompassing', 'practiced', 'data-', 'transform-deliver', 'techno-functional', 'engagement', 'post-production', 'incorporating', 'filtering', 'outlining', '-q', 'joining', 'formalities', 'confirmations', 'appraisals', 'exit-interviews', 'explain', 'stop', 'rumours', 'misleading', 'motivate', 'j.', 'sumanth', 'royal', '5.7', 'nbkrist', '|connector', 'fx', 'abs', '2019to', 'utility-scale', 'pv', 'plants', 'end-of-life', 'panel', 'recycling', 'drugs', 'biologics', 'cell', 'gene', 'therapies', '85', 'launch', 'reliable', 'alert', 'conglomerate', 'incorporated', 'york', 'quartered', 'boston', 'aviation', 'renewable', 'additive', 'venture', 'starting', 'shutting', '.v', 'challenge', '……………………….calculated', 'ccw/ccb', 'creatively', 'analytically', 'streams', 'picof/', 'postman', 'handing', 'wd29', 'wd30', 'picof.dt', 'ox', 'diff', 'sqer', 'inserting', 'emails', 'recursively', 'interval', 'relocation', 'technica', '|connectors', 'workday|', '|studio', 'languages|xml', '|etl', '|informatica', '|linux', '|winscp', 'anantapuramu', 'a.p', 'june-', 'divisions', 'namesake', 'banner', 'banana', 'republic', 'old', 'navy', 'intermix', 'hill', 'athleta', 'isg', 'fetching', 'cr-', 'alliance', 'documenttransformation', 'bumiputra', 'framed', 'mapplets', 'qualifier', 'filter', 'joiner', 'software/', 'reportwriting', 'tyson', 'foods', '30/31/32', 'd.o.b', '19-04-1993', 'venkata', 'saikrishna', 'profssional', 'integral', 'troubleshooted', 'arising', 'integrations-eib', '8/8.1', 'momentum', 'aug-2018', 'onboarding', 'questionnaires', 'commission', 'evaluate', 'false', 'formatting', '...', 'counting', 'averaging', 'summing', 'ranging', 'desired', 'outcomes', 'webservices', 'keen', 'inbounds', 'constrained', 'unconstrained', 'tata', 'consultancy', 'support/enhancement', 'cause', 'add/remove', 'safeway', 'designedand', 'amdocs', 'onsite', 'know', 'prospective', 'overseas', 'team-mates', 'ewo', 'deliveries', 'conduct', 'joined', 'pursuing', 'aptara', 'reflected', 'visible', 'formula', 'raise', 'approver', 'ids', 'closure', 'receipt', 'invoice', 'printed', 'might', 'combo', 'difference', 'zero', '\\u200bfunctional', 'indus', 'biju', 'patnaik', 'orissa', 'from0', '1991', 'odia', 'arun', 'venu', '04', '08', 'fscm/hcm', 'vanilla', 'explore', '|skills', '|app', 'bip', 'bca', 'guru', 'gobind', 'indraparastha', 'bits', 'pilani', 'wase', '|feb', '2022', '|responsibilit|analysis', '|fluid', '|home', 'mailing', 'swiss', 'payslip', '|email', 'ethnic', '|tables', 'wa', '8.57/8.58', '|global', 'offboarding', '|submit', 'resignation', 'direct', 'reportees', 'checklist', 'checklist|', '|items', 'avoid', '|checks', 'expiry', 'reminder', '|reminders', 'short', 'contracts', '|getting', 'expired', '30,15,7', 'days', '|regions', '|creation', '|april', '|responsibilit|retrofit', '|peoplecode', '|journal', 'reversal', '|testing', '|lease', 'feed', '|received', 'creation/managing', '|leases', '|ran', 'straight-line', '|depreciation', 'calculate', 'depreciation', '|close', 'validated', 'dist_ln', 'amendment', '|am', 'lm', '|labcorp', '|december', '|fscm', '|11g', '8.56.16', '|responsibilit|analyzed', 'impacted', '|retrofitted', '|9.2', 'classic|', '|customizations', '|travel', 'voucher', 'approval|', '|component', 'eprocurement', 'nz', 'multi-', 'idms', 'decommission', 'superannuation', 'advice', '|banking', 'loans', 'savings', '|accounts', 'grids', 'conversion|', 'classes', 'efm', '|according', '|fixed', '|retail', 'simply', 'pet', 'corporate|', '|offices', 'diego', 'antonio', '|pet', '|live', 'animals', '|responsibilit|worked', '|regular', '8.80', '8.48', 'sensitivity', 'restricted', 'vivekanand', 'sayana', 'epm', '12.1.0', 'inter-personal', '8.56/8.55/8.54/8.53/8.50', '8.1/10.3.6/12c', '8.1/10.3/12c', 'redhat', '5.5/6/7', 'kbn', 'srr', 'cvr', 'disney', 'fox', 'entertainment', 'allegis', '9.2.017', '9.2.032', 'inter-continental', 'hotels', '9.2.006', '9.2.016', 'baylor', 'scott', '12.1.1', 'anubhav', 'yield', 'twin', 'steady-paced', 'hcl', 'middleware', 'renewal', 'remediation', 'rmis', '07/2017-', 'automation/devops', 'ntt', 'start/stop', 'released', 'architecture/command', 'crontab', 'workload', 'continuous', 'playbook', 'severs', 'source/target', '09/2015', '07/2017', 'srdt', 'srm', '21', 'bundle', 'refreshed', 'pre-prod', 'cs9.0', '8.53,8.54', 'opa', '9.0production', '11.2.0.4', 'dbua', 'co-ordinated', 'imported', 'port', 'terminal', 'technical/developers', 'followed', 'drdo', 'sign-on', 'password', 'usernames', 'netapp', 'admin/l2', 'peopletool', '11/2013', '05/2015', 'acs', 'rajeev', '11/09/1990', 'relocate', 'yes', '|name', '|pritam', 'biswas', '|date', '|26/01/1996', '|present', '|pune', '4.1', 'years-', 'peoplesoft-', '8.x', '10.9', '10.13', 'beginner', 'tectia', 'industries', 'interested', 'hazardous', 'situations', '|degree', '|institution', '|stream', '|percentage/', 'passing|', '|cgpa', '|national', '|electrical', '|8.41', '|2017', '|institute', '|durgapur', '|12th', '|pure', '|82.24', '|2013', '|secondary', '|computer', '|science', '|10th', '|all', '|87.2', '|2011', 'ti', 'citigroup', '|maintenance', '2017-december', '|related', 'crc', 'apss', 'citigl', '|cbsi', 'frs', '|comes', '|host', '|manage', 'calendar', 'green', 'zones', '|checkouts', '|analyze', '|incidents', '|modify', '|requests', 'successful|', '|signoff', 'dsmt', '|analyzing', '|monitor', '|tectia', '|attend', 'uprade', 'upgrade|', '2019-september', '|assigned', 'all|', '|steps', 'bolt-on', 'reconciliation', '|process', '|menus', 'testing|', '|purpose', 'support|', '|scheduling', 'iws.|', '|give', 'l2', 'florida', 'palm', 'project|', '2020-present', '|currently', '|interfaces', '|package', '|multi-level', '|request', '|release', '|resolved', 'stipulated', '|mentor', '|supervise', 'acknowledgement', 'uninterrupted', 'acknowledged', 'yearly', 'choice', 'times', 'ibmer', 'appreciation', 'eminence', 'excellence', 'shining', 'sector', 'scholarship', 'dr.', 'r.', 'ambedkar', 'medha', 'puraskar', 'curriculars', 'sketching', '============================================================================', '===============', '6.8', 'hrms/fscm', 'deterministic', 'm.v.g.r', 'vizianagaram', '68.93', 'achieved', '90', 'marks', 'scored', '86', 'q3', 'q2', 'techahindra', 'innovator', 'spot', 'technol', 'ogy', 'ut', 'ions', 'limit', 'ed', '18', 'fin', 'cio', 'financials/scm', 'bouncing', 'pre-refresh', 'recompilation', '25', '37', 'aware', 'udm', 'gnupg', 'sqldeveloper', 'filezilla', 'pcomm', 'silva', 'certifications', 'ahmed', 'posses', 'virtusa', 'optimum', 'jantuk', 'citi', 'inactive', 'ap-apy2015', 'vouchers', '7+', 'ihub', 'stages', 'assurance', 'analyse', 'interpret', 'combination', '/data', 'infrastructure-iaas', 'aws-ec2', 'manager-lift', 'idc', 'transportation', 'txdot', 'wls', 'safalta', 'uts', 'papa', 'jones', '11.2.2.0', '11.2.3', 'oracle11g', 'and12c', 'go-', 'moves', 'tiers', 'pum/dpk', 'perfumed', '8.56.', 'daytona', 'dsc', 'algonquin', 'hcm/fscm/cs/pihub', '-9.2', 'install/configure', 'verity', '8.51/8.52/8.53/8.54/8.55/8.56', '10g,11g,12', '11.2.1,12.1.3', '11.2', '1.12.1.3', '2000', '2016.', 'multi-tasking', 'delight', 'sport', 'csat', '27/05/1987', 'avqpg5770q', 'passport', 'j7958541', '//www.linkedin.com/in/anandgudapati', 'ps-query', 'end-end', 'energetic', 'presently', 'territories', 'expand', 'btech', 'kaushik', '63', 'puc', '74.2', 'burja', '71.1', '17-present', 'project-', '–present', '17–', '6members', 'requirement/change', 'uats', '1st', 'pocharam', 'srinivas.k', '10+', 'installations/configurations', 'fs', 'messaging', 'workstations', 'aided', 'compiling', 'duties', 'console', 'sent', 'offline', 'adaptive', 'ec2', 'vpc', 'ebs', 'watch', 'balancers', 'lenora', 'egg', 'andhrapradesh', '8.48/8.49/8.51/8.52/8.53/854/855/8.57/8.58', '|pum', 'tools|', '|weblogic', '|weblogic8.1,9.2,10gr3,11gr2', '8.1,9.1,10,11gr2', '12.2', 'xp/2000/2003', '2016r2', 'satyam', 'june2012', 'hexaware', '9.2.35', '8.57.06', 'nissan', 'prp', 'experiencing', 'clusters', '8.5312', 'bcbsla', '857', 'starhub', 'pass', 'minacs', 'qf', 'l.', 'counterpart', 'issued', 'datagaurd', 'pt852', \"server's\", 'pt8.51', 'qfis', 'concentrating', 'student', 'adminissions', 'transcripts', '10gr3and', '10gr3', 'gangareddy', 'keeping', 'abreast', 'advancement', 'derive', 'utmost', 'host', 'spreading', 'hosts', 'evaluating', 'off-line', 'on-line', 'exp', 'imp', 'hrms/fscm/crm/cs/hcm/portal', '9.0/', '9.1/9.2', '8.48/8.50/8.52/8.53/8.54/8.55/8.57', '10gr2', '2008r2/2012/2014', 'as4', '5.5', '2003/2008r2', 'emergtech', 'amerit', '2019-till', '2012/2014', '9.0/9.1', 'v8.52/8.53/8.54', '10g/11gr2', 'kc', '10.3.', 'pro-active', '2017-aug', 'v8', '8.54/8.57', 'webservers', 'psappsrv.cfg/psprcs.cfg', 'logfence', 'section', 'appsrv.cfg', 'psappserv.cfg', 'psprcs.cfg', 'snap', 'shots', 'mutli', 'helping', 'gaining', 'executions', 'ahuja', '10.2', '8.x,9.x', 'peoplecdoe', 'env', 'fair', 'ps/query', 'pt8.54/55/56', '8,10', '07th', '11th', '2019.', 'glt', '27th', '05th', 'nagpur', '70.52', '-development', '8.49/8.51/8.54', 'db2/oracle', 'bankproviding', 'top-class', 'facilities', 'leveraging', 'objectives.this', 'vast', 'named', 'subdivided', 'rmf', 'maintenances', 'rtm', 'rdmf', 'drops', 'ssh', 'cycles', 'proposals', 'bips', 'preventionteam', 'fams', '8.54/8.56', 'gui', 'roll-ups', 'trees', 'routes', 'holds', '50', 'originates', 'estimations', 'manyata', 'nagavara', '560045', 'linin', 'subha-santosh-b16698139', 'planting', 'hybrid', 'species', 'travelling', 'french', 'subha', 'santosh', 'josyula', '0', 'refuse', 'makes', 'x', 'receivable', 'uss', 'organised', '97', 'survey', 'packaging', 'collectively', 'vishnu', 'average', 'coursera', '-capgemini', 'q4-2020', 'oca-8', 'ganesh', 'alladi', '6.4', 'r1', 'quest', '|8.55/8.54/8.53/8.50', '|assistant', '|redhat', '|hp-ux', 'j.n.t.u', 'canara', 'licencing', 'resizing', 'datafiles', 'loadbalancer', 'arizona', '8.54,8.55', '11g,12c', '12.1', '10.3,12.1', '5.5,6', 'jntu-k', 'vinayaka', 'missions', '3year', 'program-', 'ramadoss', '61/46', 'mountpleasant', 'coonoor', 'nilgiris-', '643102', 'diligence', '4.11', '2016-present', 'generation', 'renewing', 'sox', 'conversant', 'v9', 'packagees', 'delphix', '82', 'envrironment', '2007/2008/2012', '|solaris', '|apache', '|aws', '|compute', '|storage', '|networks', '|monitoring', '|identity', 'tools|odyssey', '|odyssey', '|service', '|transporter', '|8.55.06', '|8.55.22', '|8.57', '9.22', '|delphix', 'n-vision', '|control-m', '|hp', '|centrify', 'contingency', 'wealth', 'provate', 'asset', 'sahred', '2016-', '|course', '|school/college', '|board/universi|passing', '|percentage|', '|ty', '|sri', '|2016', '|86', '|b.e', '|anna', 'coimbatore', '|university', '|bharathi', 'vidya', 'bhavan', '|state', '|hsc', '|erode', '|2012', '|96.08', '|topper', '|s.s.l.c', '|st', 'joseph', 'convent', '|anglo-indian', '|2010', '|93.8', '|anglo', '|district', '|higher', '|third', 'nilgiris', '|ootacamund', 'ooty', '|place', 'district', '|english', 'advanced-', 'comprehension', '|kannada', '|hindi', '|sanskrit-', '|reading', 'yoga', 'gardening', '|hobbies', '9.0,9.1,9.2', 'manually', 'dpks', 'messages', 'pt8.52', '6.1.2', '22nd', '25th', 'sembcorp', 'brazil', '8.55.14', '8.57.05', '19th', 'regency', 'ind', '30th', 'csc', 'asg', '8.52,8.54', '9.0,9.2', '9.0,9.1', '8.47,8.48', '8.52', '10g,11g', '15-08-1982', 'varkala', 'vikas', '8.57,8.56,8.55/8.54/8.53', 'weblogic10.3/12c', 'r1/12.1.3,12.2.1.3,12.2.1.4', '12cr1/12cr2', 'ct.', '8.57,8.56,8.55', '5,6', 'akkala', '7+years', 'hcm/fscm', 'backup/recovery', 'skils', '|peopletools8.54/8.53/8.50', 'changeassi|', '|stant', 'integrationbroker', '|applicationdesigner', '10.3./12c', '|red', '5.4/6/7', '10gr2/11gr2/12c', 'm.ca', 'masterof', 'tirupati', 'company-gem', 'sify', 'sonata', 'moonstone', '|goldman', 'sach', '2020-till', '12c,11g', 'april2020', '|pps', 'mcc', 'arp', 'cot', '2019-april', 'webserverperformed', 'releventexperience', '2018-oct', '|nabard', '12c|', 'pastexperience', '2016-august', '|cdi', 'database:12c', '2013-', '|implementation', '|perkin', 'elmer', '|nov2013', 'hcm9.2,9.1', '9.2,9.1', '8.53,50', 'database:10g/11g', 'stg', 'susovan', 'bag', 'ccna', 'switching', 'subnetting', 'oops', 'controller', 'combined', 'controllers', 'bookstore', 'return', 'movie', 'javascript.', 'lovely', 'punjab', '7.22', '95.4', 'mrs.mariadas', 'u.p', 'icse', '78', ',2014', 'carrom', 'chess', 'specialization', 'degree/course', 'college/institute', 'university/', 'percentage/', 'cgpacgpa', 'vtu', '6.5', 'aryabharathi', '60', 'empress', '52.8', 'exploratory', 'methdology', 'retrospective', 'overloading', 'overriding', 'nonstatic', 'constructor', 'abstraction', 'encapsulation', 'inheritance', 'collections', 'farmland', 'crop', 'intrusion', 'cnn', 'courses', 'training/course', 'industrial', 'webtechnology', '‘', 'sjbit', 'volleyball', 'olympics', 'distict', 'assignements', 'flipkart.com', 'whatsapp', 'amazon.com', 'found', 'ft', 'camaptibility', '04/11/1995', 'fasala', 'thirumaladevarahalli', 'parthihalli', 'kodigenahalli', 'madhugiri', 'tumkur', 'pickupbiz', 'intern', 'demonstrated', 'emphasizing', 'versatility', 'hard-working', 'pressured', 'discuss', 'web-based', 'translated', 'wireframes', 'high-quality', 'debugged', 'nurture', 'individually', '12/2020', 'swami', 'ramanand', 'teerth', 'marathwada', 'kandhar', 'dossier', 'experience:9', '1-06-1998', 'urdu', 'translation', 'feature', 'surviving', 'e-supermarket', 'pdac', 'dictionary', 'emi', 'calculator', 'piano', '2.4+', 'in-app', 'play', 'base-product', 'depends', 'cohesive', 'prist', 'mount', 'thiyagadurgam', 'krishnasamy', 'constatinant', 'motion', 'mvc', 'bitbucket', 'boomi', 'pooja', 'residency', '23/01/1995', 'ccrpp0144b', 'murugan', 'grasping', 'productive', 'saffire', 'softtech', 'mockup', 'screen', 'role-', 'rtmnu', '56', '52.67', 'cbse', '65', '8th', '95', 'kambala', 'surendra', 'acquainted', 'mandepeta', 'keeper-app', '//github.com/surendrakambala/keeperapp', 'storing', '//github.com/surendrakambala/facebook', 'credentials', 'posts', 'webpages', 'jsx', '63.80', 'leela', 'babuji', 'ravulapalem', '68.03', 'tapeswaram', '2001', 'matriculation', '62', 'proficiencies', 'vscode', ',7,8,10', 'participations', 'cyberthon-2k18', 'east', 'godavari', 'apita', 'fest', 'eprozyne2k15', 'glass', 'eprozyne-2k16', '1996', 'solemnly', 'affirm', 'carry', 'lends', 'dignity', 'worthy', 'enough', 'kotani', 'durga', 'aspirant', 'synchronize', '3.1', 'creative', 'w3c', 'matching', 'unmatchable', 'creativity', 'convey', 'persuasively', 'flexibility', 'judgment', 'attention', 'detail', 'essential', 'gudlavalleru', 'viswakavi', 'amaravati', 'studios', 'notepad++', 'agro', 'buying', 'equipment', 'pesticides', 'seeds', 'pagination', 'digest', 'two-way', 'binding', 'curd', 'operation', 're-source', 'eﬀective', 'feel', 'public', 'emit', 'connects', 'fastest', 'easiest', 'directions', 'eliminate', 'wasted', 'frustration', 'lost', 'directory', 'important', 'hold', 'much', 'photos', 'instructions', 'landmarks', 'descriptive', 'gps', 'exact', 'controlled', 'accessible', 'unless', 'authorized', 'oﬀ', 'london', 'oﬀering', 'silver', 'top', 'moment', 'shows', 'price', 'dishes', 'receive', 'capable', 'transitions', 'degraded', 'k.durga', '|anjani', '|objective', 'acquire', '|creative', 'challenged', 'employing', '|employing', 'passion', 'multitude', 'especially', 'constantly', 'in|', '|dob', '05-09-1985', '|varying', '|sex', '|nationality', '9+', '|city', '|works', 'materialize', '|aspiring', 'varied', 'thoughts', 'fulfillment', '|organization', 'heights', 'with|', '|completed', 'ba', 'kasturba', '|aggregate', '61.26', '|skill', '|skilled', '|html5', '|css', '|css3', '|photoshop', '|dreamweaver', '|w3c', '|xhtml', 'designs/development', '|illustrator', '|template', '|javascript', '|bootstrap', '|foundation', '|wordpress', '|eclipse', '|coreldraw', 'x5', 'themes', '|mac', 'xcode', 'tavel', '|analyst', 'quaqua', 'sr.software', '-react', '|360-degree', 'reality', '|tourism', 'strive', '|captivating', '360', 'videos', 'ar/vr', '|immersive', '2/4', '|templates', '|hands', 'cli', '|expertise', '|router', '|else', 'syntax', 'ng-templates', 'validators', '|websites', '//www.quaqua.com/', '//m.quaqua.com/', '|purpletalk', '|front', 'ui|', '|designs', '|projects', 'sr.ui', '-angular', '|few', 'statistics', 'corresponding', '|need', 'guiding', 'optimize', 'maintain|', 'webparts', '|using', '-2', 'magellan', '-module', '-aug', 'ios/|', '|including', 'musculoskeletal', 'cardiac', 'imaging', 'management|', 'health|', '|plans', 'medicaid', 'federal', '|government', 'orchestration', '|where', 'depended', '|active', 'uhcomw', '|server', '|if', \"'re\", 'teen', 'young', 'adult', '|your', 'omwtm', '|is', \"'ll\", '|finding', 'housing', 'money', 'fun', 'fonts', 'multi-languages', 'bootstrap|', '|frame', 'appropriate|', '|estimations', 'paln', 'involved|', '|implemented', '|website', 'decrease', 'monster', 'jquiry', '/ui', '|it', 'trade', '|built', 'less', 'mantra', 'next', '|framework', 'branded', '|popular', 'smartphone', 'tablet', 'night', 'theme', '|roller', 'ios', 'responsible|', '|view', 'mentor|', '|co-ordinating', 'rockfordfosgate.com', '|rockford', 'fanatics', '35', 'rockford', 'lifestyle', '|that', 'cars', 'boats', '|recreational', 'subwoofers', '|speakers', 'amplifiers', 'fit', 'ride', 'taste', '|while', 'moto-marine', '|solutions', 'marine', 'motorcycle', 'utv', 'logo', '|its', 'qc', '|highly', 'passionate', '|determined', '|self', '|able', '|thinking', '|offer', 'varying', '|friendly', '|hardworking', '|willingness', '|optimistic', '|hobbies/interest', '|anything', '|music', '|making', 'friends', 'anjani', '1+', 'admission', 'prescription', 'authentications', 'hospitals', 'accountant', 'technician', 'pursuit', 'mutual', 'linkedin', '//www.linkedin.com/in/sharuk-abdul-99b754197', '//github.com/sharukabdul', 'sharukabdul786', 'gmail.com', 'mar-2019', 'feb-2021', 'machine', 'waymo', 'autonomous', 'labelling', 'scenario', 'captured', 'label', 'blog', '//github.com/sharukabdul/todo-list', 'mark', 'item', 'highlight', 'crosses', 'sana', '61.56', 'suguna', '87.40', 'teja', '69.33', 'mini', 'reduced', 'rating', 'voltage', 'restorer', 'battery', 'cascaded', 'invertor', 'statcom', 'appications', 'speak', 'venkatalakshmi', 'pedireddy', 'schemax', 'crafts', '05/2018', 'visakapatnam', 'achievements/tasks', 'z.', 'h.', '08/2011', '03/2012', '8.5', '08/2012', '03/2014', '81.1', '08/2014', '03/2018', '73.33', '03/2021', 'pending', 'discounts', 'retailer/distributor', 'corona', 'awareness', '03/2020', 'awereness', 'covid', '//batvidcoronaawareness.000webhostapp.com', '08/2018', '01/2019', 'mms', 'indents', '02/2019', 'wms', 'sale', 'dispatch', 'boi', 'joomla', '08/2020', 'branches', '09/2020', 'sewing', 'cutting', 'embroidery', 'productivity', 'enterprice', '05/2021', 'packing/rm', 'bilingual', 'technologiesinterests']\n"
     ]
    }
   ],
   "source": [
    "# prompt:  print the unique words from the sorted_tokens save it in another variable\n",
    "\n",
    "unique_words = []\n",
    "for word, frequency in sorted_word_frequency:\n",
    "    unique_words.append(word)\n",
    "\n",
    "print(unique_words)\n"
   ]
  },
  {
   "cell_type": "code",
   "execution_count": 62,
   "metadata": {},
   "outputs": [
    {
     "name": "stdout",
     "output_type": "stream",
     "text": [
      "                                               Resume Category  \\\n",
      "0   Ui-Developer/ React JS Developer \\n\\nNAME: KRI...    React   \n",
      "1   \\n [pic]\\n\\nPROFILE\\n\\n Searching for the oppo...    React   \n",
      "2   HARIPRIYA BATTINA \\n\\nExperience as UI Develop...    React   \n",
      "3   SARALA MADASU\\n\\nSARALA MADASU\\n\\n 204,Sri ge...    React   \n",
      "4   KAMALAKAR REDDY. A \\n\\nLinked In: https://www....    React   \n",
      "..                                                ...      ...   \n",
      "74  \\n                              CURRICULUM VIT...  Reactjs   \n",
      "75  Ranga Gaganam  \\n\\n\\n\\n \\n\\nProfessional\\n\\n \\...  Reactjs   \n",
      "76  SHAIK ABDUL SHARUK   \\n\\n2 years’ Experience i...  Reactjs   \n",
      "77  MAREEDU LOKESH BABU\\n\\n\\n\\nPROFESSIONAL OVERVI...  Reactjs   \n",
      "78  Venkatalakshmi Pedireddy\\n\\nSoftware Developer...  Reactjs   \n",
      "\n",
      "                                               Tokens  \\\n",
      "0   [ui-developer/, react, js, developer, name, kr...   \n",
      "1   [pic, profile, searching, for, the, opportunit...   \n",
      "2   [haripriya, battina, experience, as, ui, devel...   \n",
      "3   [sarala, madasu, sarala, madasu, , 204, sri, ...   \n",
      "4   [kamalakar, reddy, a, linked, in, https, //www...   \n",
      "..                                                ...   \n",
      "74  [curriculum, vitae, |anjani, priyadarshini, |o...   \n",
      "75  [ranga, gaganam, professional, summary, profes...   \n",
      "76  [shaik, abdul, sharuk, 2, years, ’, experience...   \n",
      "77  [mareedu, lokesh, babu, professional, overview...   \n",
      "78  [venkatalakshmi, pedireddy, software, develope...   \n",
      "\n",
      "                             Tokens_without_stopwords  \\\n",
      "0   [ui-developer/, react, js, developer, name, kr...   \n",
      "1   [pic, profile, searching, opportunity, bring, ...   \n",
      "2   [haripriya, battina, experience, ui, developer...   \n",
      "3   [sarala, madasu, sarala, madasu, , 204, sri, ...   \n",
      "4   [kamalakar, reddy, linked, https, //www.linked...   \n",
      "..                                                ...   \n",
      "74  [curriculum, vitae, |anjani, priyadarshini, |o...   \n",
      "75  [ranga, gaganam, professional, summary, profes...   \n",
      "76  [shaik, abdul, sharuk, 2, years, ’, experience...   \n",
      "77  [mareedu, lokesh, babu, professional, overview...   \n",
      "78  [venkatalakshmi, pedireddy, software, develope...   \n",
      "\n",
      "                                    Lemmatized_Tokens  \n",
      "0   [ui-developer/, react, j, developer, name, kri...  \n",
      "1   [pic, profile, searching, opportunity, bring, ...  \n",
      "2   [haripriya, battina, experience, ui, developer...  \n",
      "3   [sarala, madasu, sarala, madasu, , 204, sri, ...  \n",
      "4   [kamalakar, reddy, linked, http, //www.linkedi...  \n",
      "..                                                ...  \n",
      "74  [curriculum, vitae, |anjani, priyadarshini, |o...  \n",
      "75  [ranga, gaganam, professional, summary, profes...  \n",
      "76  [shaik, abdul, sharuk, 2, year, ’, experience,...  \n",
      "77  [mareedu, lokesh, babu, professional, overview...  \n",
      "78  [venkatalakshmi, pedireddy, software, develope...  \n",
      "\n",
      "[79 rows x 5 columns]\n"
     ]
    }
   ],
   "source": [
    "# prompt: apply the lemmatization to the above data\n",
    "\n",
    "# nltk.download('wordnet')\n",
    "from nltk.stem import WordNetLemmatizer\n",
    "\n",
    "lemmatizer = WordNetLemmatizer()\n",
    "\n",
    "df1['Lemmatized_Tokens'] = df1['Tokens_without_stopwords'].apply(lambda x: [lemmatizer.lemmatize(word) for word in x])\n",
    "\n",
    "# Print the DataFrame with the new column\n",
    "print(df1)\n"
   ]
  },
  {
   "cell_type": "code",
   "execution_count": 63,
   "metadata": {},
   "outputs": [
    {
     "ename": "ValueError",
     "evalue": "Only supported for TrueType fonts",
     "output_type": "error",
     "traceback": [
      "\u001b[0;31m---------------------------------------------------------------------------\u001b[0m",
      "\u001b[0;31mValueError\u001b[0m                                Traceback (most recent call last)",
      "Cell \u001b[0;32mIn[63], line 9\u001b[0m\n\u001b[1;32m      6\u001b[0m text \u001b[38;5;241m=\u001b[39m \u001b[38;5;124m\"\u001b[39m\u001b[38;5;124m \u001b[39m\u001b[38;5;124m\"\u001b[39m\u001b[38;5;241m.\u001b[39mjoin(df1[\u001b[38;5;124m'\u001b[39m\u001b[38;5;124mLemmatized_Tokens\u001b[39m\u001b[38;5;124m'\u001b[39m]\u001b[38;5;241m.\u001b[39msum())\n\u001b[1;32m      8\u001b[0m \u001b[38;5;66;03m# Create a WordCloud object\u001b[39;00m\n\u001b[0;32m----> 9\u001b[0m wordcloud \u001b[38;5;241m=\u001b[39m \u001b[43mWordCloud\u001b[49m\u001b[43m(\u001b[49m\u001b[43mwidth\u001b[49m\u001b[38;5;241;43m=\u001b[39;49m\u001b[38;5;241;43m800\u001b[39;49m\u001b[43m,\u001b[49m\u001b[43m \u001b[49m\u001b[43mheight\u001b[49m\u001b[38;5;241;43m=\u001b[39;49m\u001b[38;5;241;43m600\u001b[39;49m\u001b[43m,\u001b[49m\u001b[43m \u001b[49m\u001b[43mbackground_color\u001b[49m\u001b[38;5;241;43m=\u001b[39;49m\u001b[38;5;124;43m\"\u001b[39;49m\u001b[38;5;124;43mwhite\u001b[39;49m\u001b[38;5;124;43m\"\u001b[39;49m\u001b[43m)\u001b[49m\u001b[38;5;241;43m.\u001b[39;49m\u001b[43mgenerate\u001b[49m\u001b[43m(\u001b[49m\u001b[43mtext\u001b[49m\u001b[43m)\u001b[49m\n\u001b[1;32m     11\u001b[0m \u001b[38;5;66;03m# Plot the wordcloud\u001b[39;00m\n\u001b[1;32m     12\u001b[0m plt\u001b[38;5;241m.\u001b[39mfigure(figsize\u001b[38;5;241m=\u001b[39m(\u001b[38;5;241m10\u001b[39m, \u001b[38;5;241m7\u001b[39m))\n",
      "File \u001b[0;32m~/.local/lib/python3.10/site-packages/wordcloud/wordcloud.py:642\u001b[0m, in \u001b[0;36mWordCloud.generate\u001b[0;34m(self, text)\u001b[0m\n\u001b[1;32m    627\u001b[0m \u001b[38;5;28;01mdef\u001b[39;00m \u001b[38;5;21mgenerate\u001b[39m(\u001b[38;5;28mself\u001b[39m, text):\n\u001b[1;32m    628\u001b[0m \u001b[38;5;250m    \u001b[39m\u001b[38;5;124;03m\"\"\"Generate wordcloud from text.\u001b[39;00m\n\u001b[1;32m    629\u001b[0m \n\u001b[1;32m    630\u001b[0m \u001b[38;5;124;03m    The input \"text\" is expected to be a natural text. If you pass a sorted\u001b[39;00m\n\u001b[0;32m   (...)\u001b[0m\n\u001b[1;32m    640\u001b[0m \u001b[38;5;124;03m    self\u001b[39;00m\n\u001b[1;32m    641\u001b[0m \u001b[38;5;124;03m    \"\"\"\u001b[39;00m\n\u001b[0;32m--> 642\u001b[0m     \u001b[38;5;28;01mreturn\u001b[39;00m \u001b[38;5;28;43mself\u001b[39;49m\u001b[38;5;241;43m.\u001b[39;49m\u001b[43mgenerate_from_text\u001b[49m\u001b[43m(\u001b[49m\u001b[43mtext\u001b[49m\u001b[43m)\u001b[49m\n",
      "File \u001b[0;32m~/.local/lib/python3.10/site-packages/wordcloud/wordcloud.py:624\u001b[0m, in \u001b[0;36mWordCloud.generate_from_text\u001b[0;34m(self, text)\u001b[0m\n\u001b[1;32m    607\u001b[0m \u001b[38;5;250m\u001b[39m\u001b[38;5;124;03m\"\"\"Generate wordcloud from text.\u001b[39;00m\n\u001b[1;32m    608\u001b[0m \n\u001b[1;32m    609\u001b[0m \u001b[38;5;124;03mThe input \"text\" is expected to be a natural text. If you pass a sorted\u001b[39;00m\n\u001b[0;32m   (...)\u001b[0m\n\u001b[1;32m    621\u001b[0m \u001b[38;5;124;03mself\u001b[39;00m\n\u001b[1;32m    622\u001b[0m \u001b[38;5;124;03m\"\"\"\u001b[39;00m\n\u001b[1;32m    623\u001b[0m words \u001b[38;5;241m=\u001b[39m \u001b[38;5;28mself\u001b[39m\u001b[38;5;241m.\u001b[39mprocess_text(text)\n\u001b[0;32m--> 624\u001b[0m \u001b[38;5;28;43mself\u001b[39;49m\u001b[38;5;241;43m.\u001b[39;49m\u001b[43mgenerate_from_frequencies\u001b[49m\u001b[43m(\u001b[49m\u001b[43mwords\u001b[49m\u001b[43m)\u001b[49m\n\u001b[1;32m    625\u001b[0m \u001b[38;5;28;01mreturn\u001b[39;00m \u001b[38;5;28mself\u001b[39m\n",
      "File \u001b[0;32m~/.local/lib/python3.10/site-packages/wordcloud/wordcloud.py:453\u001b[0m, in \u001b[0;36mWordCloud.generate_from_frequencies\u001b[0;34m(self, frequencies, max_font_size)\u001b[0m\n\u001b[1;32m    451\u001b[0m     font_size \u001b[38;5;241m=\u001b[39m \u001b[38;5;28mself\u001b[39m\u001b[38;5;241m.\u001b[39mheight\n\u001b[1;32m    452\u001b[0m \u001b[38;5;28;01melse\u001b[39;00m:\n\u001b[0;32m--> 453\u001b[0m     \u001b[38;5;28;43mself\u001b[39;49m\u001b[38;5;241;43m.\u001b[39;49m\u001b[43mgenerate_from_frequencies\u001b[49m\u001b[43m(\u001b[49m\u001b[38;5;28;43mdict\u001b[39;49m\u001b[43m(\u001b[49m\u001b[43mfrequencies\u001b[49m\u001b[43m[\u001b[49m\u001b[43m:\u001b[49m\u001b[38;5;241;43m2\u001b[39;49m\u001b[43m]\u001b[49m\u001b[43m)\u001b[49m\u001b[43m,\u001b[49m\n\u001b[1;32m    454\u001b[0m \u001b[43m                                   \u001b[49m\u001b[43mmax_font_size\u001b[49m\u001b[38;5;241;43m=\u001b[39;49m\u001b[38;5;28;43mself\u001b[39;49m\u001b[38;5;241;43m.\u001b[39;49m\u001b[43mheight\u001b[49m\u001b[43m)\u001b[49m\n\u001b[1;32m    455\u001b[0m     \u001b[38;5;66;03m# find font sizes\u001b[39;00m\n\u001b[1;32m    456\u001b[0m     sizes \u001b[38;5;241m=\u001b[39m [x[\u001b[38;5;241m1\u001b[39m] \u001b[38;5;28;01mfor\u001b[39;00m x \u001b[38;5;129;01min\u001b[39;00m \u001b[38;5;28mself\u001b[39m\u001b[38;5;241m.\u001b[39mlayout_]\n",
      "File \u001b[0;32m~/.local/lib/python3.10/site-packages/wordcloud/wordcloud.py:511\u001b[0m, in \u001b[0;36mWordCloud.generate_from_frequencies\u001b[0;34m(self, frequencies, max_font_size)\u001b[0m\n\u001b[1;32m    508\u001b[0m transposed_font \u001b[38;5;241m=\u001b[39m ImageFont\u001b[38;5;241m.\u001b[39mTransposedFont(\n\u001b[1;32m    509\u001b[0m     font, orientation\u001b[38;5;241m=\u001b[39morientation)\n\u001b[1;32m    510\u001b[0m \u001b[38;5;66;03m# get size of resulting text\u001b[39;00m\n\u001b[0;32m--> 511\u001b[0m box_size \u001b[38;5;241m=\u001b[39m \u001b[43mdraw\u001b[49m\u001b[38;5;241;43m.\u001b[39;49m\u001b[43mtextbbox\u001b[49m\u001b[43m(\u001b[49m\u001b[43m(\u001b[49m\u001b[38;5;241;43m0\u001b[39;49m\u001b[43m,\u001b[49m\u001b[43m \u001b[49m\u001b[38;5;241;43m0\u001b[39;49m\u001b[43m)\u001b[49m\u001b[43m,\u001b[49m\u001b[43m \u001b[49m\u001b[43mword\u001b[49m\u001b[43m,\u001b[49m\u001b[43m \u001b[49m\u001b[43mfont\u001b[49m\u001b[38;5;241;43m=\u001b[39;49m\u001b[43mtransposed_font\u001b[49m\u001b[43m,\u001b[49m\u001b[43m \u001b[49m\u001b[43manchor\u001b[49m\u001b[38;5;241;43m=\u001b[39;49m\u001b[38;5;124;43m\"\u001b[39;49m\u001b[38;5;124;43mlt\u001b[39;49m\u001b[38;5;124;43m\"\u001b[39;49m\u001b[43m)\u001b[49m\n\u001b[1;32m    512\u001b[0m \u001b[38;5;66;03m# find possible places using integral image:\u001b[39;00m\n\u001b[1;32m    513\u001b[0m result \u001b[38;5;241m=\u001b[39m occupancy\u001b[38;5;241m.\u001b[39msample_position(box_size[\u001b[38;5;241m3\u001b[39m] \u001b[38;5;241m+\u001b[39m \u001b[38;5;28mself\u001b[39m\u001b[38;5;241m.\u001b[39mmargin,\n\u001b[1;32m    514\u001b[0m                                    box_size[\u001b[38;5;241m2\u001b[39m] \u001b[38;5;241m+\u001b[39m \u001b[38;5;28mself\u001b[39m\u001b[38;5;241m.\u001b[39mmargin,\n\u001b[1;32m    515\u001b[0m                                    random_state)\n",
      "File \u001b[0;32m/usr/lib/python3/dist-packages/PIL/ImageDraw.py:671\u001b[0m, in \u001b[0;36mImageDraw.textbbox\u001b[0;34m(self, xy, text, font, anchor, spacing, align, direction, features, language, stroke_width, embedded_color)\u001b[0m\n\u001b[1;32m    669\u001b[0m     font \u001b[38;5;241m=\u001b[39m \u001b[38;5;28mself\u001b[39m\u001b[38;5;241m.\u001b[39mgetfont()\n\u001b[1;32m    670\u001b[0m \u001b[38;5;28;01mif\u001b[39;00m \u001b[38;5;129;01mnot\u001b[39;00m \u001b[38;5;28misinstance\u001b[39m(font, ImageFont\u001b[38;5;241m.\u001b[39mFreeTypeFont):\n\u001b[0;32m--> 671\u001b[0m     \u001b[38;5;28;01mraise\u001b[39;00m \u001b[38;5;167;01mValueError\u001b[39;00m(\u001b[38;5;124m\"\u001b[39m\u001b[38;5;124mOnly supported for TrueType fonts\u001b[39m\u001b[38;5;124m\"\u001b[39m)\n\u001b[1;32m    672\u001b[0m mode \u001b[38;5;241m=\u001b[39m \u001b[38;5;124m\"\u001b[39m\u001b[38;5;124mRGBA\u001b[39m\u001b[38;5;124m\"\u001b[39m \u001b[38;5;28;01mif\u001b[39;00m embedded_color \u001b[38;5;28;01melse\u001b[39;00m \u001b[38;5;28mself\u001b[39m\u001b[38;5;241m.\u001b[39mfontmode\n\u001b[1;32m    673\u001b[0m bbox \u001b[38;5;241m=\u001b[39m font\u001b[38;5;241m.\u001b[39mgetbbox(\n\u001b[1;32m    674\u001b[0m     text, mode, direction, features, language, stroke_width, anchor\n\u001b[1;32m    675\u001b[0m )\n",
      "\u001b[0;31mValueError\u001b[0m: Only supported for TrueType fonts"
     ]
    }
   ],
   "source": [
    "# prompt: give me the code for word cloud\n",
    "\n",
    "from wordcloud import WordCloud\n",
    "\n",
    "# Join all the tokens in the DataFrame into a single string\n",
    "text = \" \".join(df1['Lemmatized_Tokens'].sum())\n",
    "\n",
    "# Create a WordCloud object\n",
    "wordcloud = WordCloud(width=800, height=600, background_color=\"white\").generate(text)\n",
    "\n",
    "# Plot the wordcloud\n",
    "plt.figure(figsize=(10, 7))\n",
    "plt.imshow(wordcloud, interpolation=\"bilinear\")\n",
    "plt.axis(\"off\")\n",
    "plt.show()\n"
   ]
  }
 ],
 "metadata": {
  "kernelspec": {
   "display_name": "Python 3",
   "language": "python",
   "name": "python3"
  },
  "language_info": {
   "codemirror_mode": {
    "name": "ipython",
    "version": 3
   },
   "file_extension": ".py",
   "mimetype": "text/x-python",
   "name": "python",
   "nbconvert_exporter": "python",
   "pygments_lexer": "ipython3",
   "version": "3.10.12"
  }
 },
 "nbformat": 4,
 "nbformat_minor": 2
}
